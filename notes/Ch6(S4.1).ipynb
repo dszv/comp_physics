{
 "cells": [
  {
   "cell_type": "markdown",
   "metadata": {},
   "source": [
    "# Golden ratio search"
   ]
  },
  {
   "cell_type": "markdown",
   "metadata": {},
   "source": [
    "Se considera el problema de encontrar de encontrar un mínimo para la función $f(x)$. Un método básico para ello es el *golden ratio search*. Con este método se pueden encontrar mínimo **locales** y **globales** (sin distinción). "
   ]
  },
  {
   "cell_type": "markdown",
   "metadata": {},
   "source": [
    "<img src=\"grafica641.png\">"
   ]
  },
  {
   "cell_type": "markdown",
   "metadata": {},
   "source": [
    "Necesitamos 3 puntos (no necesariamente equiespaciados) al que añadiremos otro punto. De la figura, suponga que al menos uno de los valores $f(x_2)$ y $f(x_3)$ en los puntos intermedios es menor que los valores $f(x_1)$ y $f(x_4)$ en los puntos en los extremos. En ese caso, sabemos que hay un mínimo entre $x_1$ y $x_4$, pues la función baja y sube. Luego, podemos limitar la búsqueda comparando los valores de $f$ en $x_2$ y $x_3$, para seleccionar al menor de ellos.\n",
    "\n",
    "- Si $f(x_2) < f(x_3)$: El mínimo debe estar entre $x_1$ y $x_3$.\n",
    "\n",
    "- Si $f(x_2) > f(x_3)$: El mínimo debe estar entre $x_2$ y $x_4$.\n",
    "\n",
    "Mediante este proceso, podremos reducir el rango de búsqueda del mínimo: escogiendo tres números y añadiendo un cuarto. Se repite el proceso hasta que el mínimo se encuentre en un intervalo de menor tamaño al de la precisión especificada, luego tomamos el punto medio del intervalo como el resultado para la posición del mínimo."
   ]
  },
  {
   "cell_type": "markdown",
   "metadata": {},
   "source": [
    "## Escoger puntos interiores"
   ]
  },
  {
   "cell_type": "markdown",
   "metadata": {},
   "source": [
    "Para dos posiciones extremas $x_1$ y $x_4$, los dos puntos interiores deben estar simétricamente distribuidos respecto al punto medio del intervalo. Entonces: $$x_2-x_1=x_4-x_3$$\n",
    "\n",
    "Como queremos que el método sea eficiente, es conveniente elegir los puntos tal que el intervalo en que buscamos el mínimo, decrezca lo más posible en cada paso del proceso y el que sigue.\n",
    "\n",
    "Definimos $z$ como la razón entre el ancho del intervalo antes y después de un paso de la búsqueda. Si suponemos que el mínimo cae en la parte izquierda del intervalo, entre $x_1$ y $x_3$, entonces\n",
    "$$z = \\dfrac{x_4-x_1}{x_3-x_1} = \\dfrac{(x_2-x_1+x_3)-x_1}{x_3-x_1} = \\dfrac{x_2-x_1}{x_3-x_1} + 1$$ \n",
    "El siguiente paso debe satisfacer\n",
    "$$z = \\dfrac{x_3-x_1}{x_2-x_1}$$\n",
    "Si los algoritmos deben ser igualmente eficientes para ambos pasos, entonces se debe resolver la ecuación $$z = \\dfrac{1}{z}+1$$ que tiene como solución mayor a 1 $$z = \\dfrac{1+\\sqrt{5}}{2} = 1.618\\dots$$\n",
    "\n",
    "Esto también se cumple si se reduce el intervalo por la derecha. $z$ se denomina *golden ratio*."
   ]
  },
  {
   "cell_type": "code",
   "execution_count": 1,
   "metadata": {},
   "outputs": [],
   "source": [
    "import numpy as np\n",
    "import matplotlib.pyplot as plt\n",
    "from scipy.constants import golden"
   ]
  },
  {
   "cell_type": "code",
   "execution_count": 2,
   "metadata": {},
   "outputs": [],
   "source": [
    "def ploting(f, x):\n",
    "    plt.plot(x,f(x),label='function')\n",
    "    plt.grid()\n",
    "    plt.xlabel('x')\n",
    "    plt.ylabel('f(x)')\n",
    "    plt.show()"
   ]
  },
  {
   "cell_type": "code",
   "execution_count": 3,
   "metadata": {},
   "outputs": [],
   "source": [
    "# otra opción: scipy.optimize.golden\n",
    "\n",
    "def GRS(f, x_initial, accuracy=1e-4):\n",
    "    # Posiciones iniciales\n",
    "    x1, x4 = x_initial\n",
    "    x2 = x4 - (x4 - x1)/golden\n",
    "    x3 = x1 + (x4 - x1)/golden\n",
    "    \n",
    "    # Valores iniciales de la función en los\n",
    "    # primeros cuatro puntos\n",
    "    f1, f2, f3, f4 = f(x1), f(x2), f(x3), f(x4)\n",
    "    \n",
    "    # Golden ratio search\n",
    "    while x4 - x1 > accuracy:\n",
    "        # Si f(x2) < f(x3) -> intervalo a la izquierda\n",
    "        if f2 < f3:\n",
    "            x4, f4 = x3, f3\n",
    "            x3, f3 = x2, f2\n",
    "            x2 = x4 - (x4-x1)/golden\n",
    "            f2 = f(x2)\n",
    "        # Si f(x3) <= f(x2) -> intervalo a la derecha\n",
    "        else:\n",
    "            x1, f1 = x2, f2\n",
    "            x2, f2 = x3, f3\n",
    "            x3 = x1 + (x4 - x1)/golden\n",
    "            f3 = f(x3)\n",
    "    \n",
    "    print(\"El mínimo está en {0: .2f}\".format(0.5*(x1 + x4)))\n",
    "    return 0.5*(x1 + x4)"
   ]
  },
  {
   "cell_type": "markdown",
   "metadata": {},
   "source": [
    "# Potencial de Buckingham\n",
    "\n",
    "Aproximación del potencial de interacción entre átomos de un sólido o gas. en función de la distancia $r$:\n",
    "\n",
    "$$V(r) = V_0 \\left[ \\left( \\dfrac{\\sigma}{r} \\right)^6 - e^{-r/\\sigma} \\right]$$"
   ]
  },
  {
   "cell_type": "code",
   "execution_count": 4,
   "metadata": {},
   "outputs": [
    {
     "data": {
      "image/png": "[encoded data removed]",
      "text/plain": [
       "<Figure size 432x288 with 1 Axes>"
      ]
     },
     "metadata": {
      "needs_background": "light"
     },
     "output_type": "display_data"
    }
   ],
   "source": [
    "σ = 1.0\n",
    "ϵ = 1e-6\n",
    "f = lambda x: (1/x)**6 - np.exp(-x)\n",
    "r = np.linspace(1,8,200)\n",
    "ploting(f,r/σ)"
   ]
  },
  {
   "cell_type": "code",
   "execution_count": 5,
   "metadata": {},
   "outputs": [
    {
     "name": "stdout",
     "output_type": "stream",
     "text": [
      "El mínimo está en  1.63\n"
     ]
    }
   ],
   "source": [
    "# Mínimo en nm\n",
    "minimum_V = GRS(f, (σ, 2*σ), ϵ)"
   ]
  },
  {
   "cell_type": "markdown",
   "metadata": {},
   "source": [
    "# Temperatura de un foco\n",
    "\n",
    "Suponemos que la radiación del filamento del foco a temperatura $T$ obedece la ley de radiación de Planck, entonces, la potencia de radiación por unidad de longitud de onda obedece\n",
    "$$I(\\lambda) = 2\\pi Ah c^2 \\dfrac{\\lambda^{-5}}{e^{hc/\\lambda kT}-1}$$\n",
    "\n",
    "Y de esto la eficiencia del foco está dada por\n",
    "$$\\eta = \\dfrac{\\int_{\\lambda_1}^{\\lambda_2} \\lambda^{-5}/(e^{hc/\\lambda kT}-1) d\\lambda}{\\int_{0}^{\\infty} \\lambda^{-5}/(e^{hc/\\lambda kT}-1) d\\lambda}$$\n",
    "Con un par de operaciones:\n",
    "$$\\eta(T) = \\dfrac{15}{\\pi^4} \\int_{hc/\\lambda_2 kT}^{hc/\\lambda_1 kT} \\dfrac{x^3}{e^x - 1} dx$$"
   ]
  },
  {
   "cell_type": "code",
   "execution_count": 21,
   "metadata": {},
   "outputs": [],
   "source": [
    "from scipy.integrate import quadrature\n",
    "from scipy.constants import c, h, k\n",
    "from scipy.optimize import golden as grs"
   ]
  },
  {
   "cell_type": "code",
   "execution_count": 8,
   "metadata": {},
   "outputs": [],
   "source": [
    "T = np.linspace(300,10000,100)\n",
    "η = np.empty_like(T, float)\n",
    "F = lambda x: x**3/(np.exp(x) - 1)\n",
    "λ1, λ2 = 390e-9, 750e-9\n",
    "\n",
    "for i in range(len(T)):\n",
    "    η[i] = quadrature(F, h*c/(λ2*k*T[i]), h*c/(λ1*k*T[i]))[0]"
   ]
  },
  {
   "cell_type": "code",
   "execution_count": 28,
   "metadata": {},
   "outputs": [
    {
     "data": {
      "image/png": "[encoded data removed]",
      "text/plain": [
       "<Figure size 432x288 with 1 Axes>"
      ]
     },
     "metadata": {
      "needs_background": "light"
     },
     "output_type": "display_data"
    }
   ],
   "source": [
    "plt.plot(T, -1*η)\n",
    "plt.show()"
   ]
  },
  {
   "cell_type": "code",
   "execution_count": 2,
   "metadata": {},
   "outputs": [
    {
     "ename": "NameError",
     "evalue": "name 'golden' is not defined",
     "output_type": "error",
     "traceback": [
      "\u001b[0;31m---------------------------------------------------------------------------\u001b[0m",
      "\u001b[0;31mNameError\u001b[0m                                 Traceback (most recent call last)",
      "\u001b[0;32m<ipython-input-2-84218d1d4853>\u001b[0m in \u001b[0;36m<module>\u001b[0;34m\u001b[0m\n\u001b[1;32m      2\u001b[0m \u001b[0mFp\u001b[0m \u001b[0;34m=\u001b[0m \u001b[0;32mlambda\u001b[0m \u001b[0mT\u001b[0m\u001b[0;34m:\u001b[0m \u001b[0mquadrature\u001b[0m\u001b[0;34m(\u001b[0m\u001b[0mF\u001b[0m\u001b[0;34m,\u001b[0m \u001b[0mh\u001b[0m\u001b[0;34m*\u001b[0m\u001b[0mc\u001b[0m\u001b[0;34m/\u001b[0m\u001b[0;34m(\u001b[0m\u001b[0mλ1\u001b[0m\u001b[0;34m*\u001b[0m\u001b[0mk\u001b[0m\u001b[0;34m*\u001b[0m\u001b[0mT\u001b[0m\u001b[0;34m)\u001b[0m\u001b[0;34m,\u001b[0m \u001b[0mh\u001b[0m\u001b[0;34m*\u001b[0m\u001b[0mc\u001b[0m\u001b[0;34m/\u001b[0m\u001b[0;34m(\u001b[0m\u001b[0mλ2\u001b[0m\u001b[0;34m*\u001b[0m\u001b[0mk\u001b[0m\u001b[0;34m*\u001b[0m\u001b[0mT\u001b[0m\u001b[0;34m)\u001b[0m\u001b[0;34m)\u001b[0m\u001b[0;34m\u001b[0m\u001b[0;34m\u001b[0m\u001b[0m\n\u001b[1;32m      3\u001b[0m \u001b[0;34m\u001b[0m\u001b[0m\n\u001b[0;32m----> 4\u001b[0;31m \u001b[0mminimum_T\u001b[0m \u001b[0;34m=\u001b[0m \u001b[0mGRS\u001b[0m\u001b[0;34m(\u001b[0m\u001b[0mFp\u001b[0m\u001b[0;34m,\u001b[0m\u001b[0;34m(\u001b[0m\u001b[0;36m5000\u001b[0m\u001b[0;34m,\u001b[0m\u001b[0;36m8000\u001b[0m\u001b[0;34m)\u001b[0m\u001b[0;34m,\u001b[0m\u001b[0;36m1\u001b[0m\u001b[0;34m)\u001b[0m\u001b[0;34m\u001b[0m\u001b[0;34m\u001b[0m\u001b[0m\n\u001b[0m",
      "\u001b[0;32m<ipython-input-1-553d8e7a0cdb>\u001b[0m in \u001b[0;36mGRS\u001b[0;34m(f, x_initial, accuracy)\u001b[0m\n\u001b[1;32m      2\u001b[0m     \u001b[0;31m# Posiciones iniciales\u001b[0m\u001b[0;34m\u001b[0m\u001b[0;34m\u001b[0m\u001b[0;34m\u001b[0m\u001b[0m\n\u001b[1;32m      3\u001b[0m     \u001b[0mx1\u001b[0m\u001b[0;34m,\u001b[0m \u001b[0mx4\u001b[0m \u001b[0;34m=\u001b[0m \u001b[0mx_initial\u001b[0m\u001b[0;34m\u001b[0m\u001b[0;34m\u001b[0m\u001b[0m\n\u001b[0;32m----> 4\u001b[0;31m     \u001b[0mx2\u001b[0m \u001b[0;34m=\u001b[0m \u001b[0mx4\u001b[0m \u001b[0;34m-\u001b[0m \u001b[0;34m(\u001b[0m\u001b[0mx4\u001b[0m \u001b[0;34m-\u001b[0m \u001b[0mx1\u001b[0m\u001b[0;34m)\u001b[0m\u001b[0;34m/\u001b[0m\u001b[0mgolden\u001b[0m\u001b[0;34m\u001b[0m\u001b[0;34m\u001b[0m\u001b[0m\n\u001b[0m\u001b[1;32m      5\u001b[0m     \u001b[0mx3\u001b[0m \u001b[0;34m=\u001b[0m \u001b[0mx1\u001b[0m \u001b[0;34m+\u001b[0m \u001b[0;34m(\u001b[0m\u001b[0mx4\u001b[0m \u001b[0;34m-\u001b[0m \u001b[0mx1\u001b[0m\u001b[0;34m)\u001b[0m\u001b[0;34m/\u001b[0m\u001b[0mgolden\u001b[0m\u001b[0;34m\u001b[0m\u001b[0;34m\u001b[0m\u001b[0m\n\u001b[1;32m      6\u001b[0m \u001b[0;34m\u001b[0m\u001b[0m\n",
      "\u001b[0;31mNameError\u001b[0m: name 'golden' is not defined"
     ]
    }
   ],
   "source": [
    "# Hallar el máximo = cambiar la posición de las cotas bc negativo\n",
    "Fp = lambda T: quadrature(F, h*c/(λ1*k*T), h*c/(λ2*k*T))\n",
    "\n",
    "minimum_T = GRS(Fp,(5000,8000),1)"
   ]
  },
  {
   "cell_type": "code",
   "execution_count": 32,
   "metadata": {},
   "outputs": [
    {
     "data": {
      "text/plain": [
       "6928.57927092748"
      ]
     },
     "execution_count": 32,
     "metadata": {},
     "output_type": "execute_result"
    }
   ],
   "source": [
    "# No poner tolerancia :D\n",
    "grs(Fp,brack=(5000,8000))"
   ]
  },
  {
   "cell_type": "code",
   "execution_count": null,
   "metadata": {},
   "outputs": [],
   "source": []
  }
 ],
 "metadata": {
  "kernelspec": {
   "display_name": "Python 3",
   "language": "python",
   "name": "python3"
  },
  "language_info": {
   "codemirror_mode": {
    "name": "ipython",
    "version": 3
   },
   "file_extension": ".py",
   "mimetype": "text/x-python",
   "name": "python",
   "nbconvert_exporter": "python",
   "pygments_lexer": "ipython3",
   "version": "3.8.8"
  },
  "vp": {
   "base_numbering": 1,
   "nav_menu": {},
   "number_sections": true,
   "sideBar": true,
   "title_cell": "VisualPython",
   "title_sidebar": "VisualPython",
   "vpPosition": {
    "height": "calc(100% - 180px)",
    "right": "10px",
    "top": "110px",
    "width": "50%"
   },
   "vp_cell": false,
   "vp_section_display": true,
   "vp_window_display": false
  }
 },
 "nbformat": 4,
 "nbformat_minor": 4
}
