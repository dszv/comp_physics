{
 "cells": [
  {
   "cell_type": "markdown",
   "id": "induced-incident",
   "metadata": {},
   "source": [
    "# 5.10 Derivatives\n",
    "\n",
    "- Derivatives of known functions can always be calculated analytically, so there's less need to calculate them numerically.\n",
    "- There are some significant practical problems with numerical derivatives, which means they are used less often then numerical integrals (Numerical derivatives are important in solving PDE's)."
   ]
  },
  {
   "cell_type": "markdown",
   "id": "arctic-rolling",
   "metadata": {},
   "source": [
    "## 5.10.1 Forward and backward differences\n",
    "\n",
    "Standard definition\n",
    "\n",
    "\\begin{equation}\n",
    "    \\frac{\\mathrm{d} f}{\\mathrm{d} x} = \\lim _{h \\rightarrow 0} \\frac{f(x + h) - f(x)}{h}\n",
    "\\end{equation}\n",
    "\n",
    "We can't take the limit $h \\rightarrow 0$ in practice, but we can make $h$ very small and then calculate\n",
    "\n",
    "\\begin{equation}\n",
    "    \\frac{\\mathrm{d} f}{\\mathrm{d} x} \\approx \\frac{f(x + h) - f(x)}{h}\n",
    "\\end{equation}\n",
    "\n",
    "This approximation to the derivative is called the *forward difference*. There is also the *backward difference*, which has the mirror image definition\n",
    "\n",
    "\\begin{equation}\n",
    "    \\frac{\\mathrm{d} f}{\\mathrm{d} x} \\approx \\frac{f(x) - f(x - h)}{h}\n",
    "\\end{equation}\n",
    "\n",
    "<img src='img/5101.png' width=\"400\" height=\"400\">"
   ]
  },
  {
   "cell_type": "markdown",
   "id": "durable-begin",
   "metadata": {},
   "source": [
    "## 5.10.2 Errors\n",
    "\n",
    "Calculations of derivatives using forward and backward differences are not perfectly accurate. There are two sources of error:\n",
    "\n",
    "1. Rounding (computer) error\n",
    "\n",
    "- Subtracting numbers from one another on a computer can give rise to big rounding errors (in fractional terms) if the numbers are close to one another.\n",
    "- The computer can typically calculate a number such as $ f(x) $ to an accuracy of $ Cf(x) $, where the value of the error constant $ C $  can vary but is typically about $ C = 10^{-16}$ in Python.\n",
    "\n",
    "The absolute magnitude of the total rounding error on $ f(x + h) - f(x) $ will, in the worst case, be about $ 2C|f(x)| $. Then the worst-case rounding error on the complete forward difference, will be $ 2C|f(x)|/h $.\n",
    "\n",
    "2. Approximation error\n",
    "\n",
    "Taylor expansion:\n",
    "\n",
    "\\begin{equation}\n",
    "    f(x+h) = f(x) + hf'(x) + \\frac{1}{2}h^2 f''(x) + O (h^3)\n",
    "\\end{equation}\n",
    "\n",
    "rearranging this expression\n",
    "\n",
    "\\begin{equation}\n",
    "    f'(x) = \\frac{f(x + h) - f(x)}{h} - \\frac{1}{2}h f''(x) + O (h^2)\n",
    "\\end{equation}\n",
    "\n",
    "the absolute magnitude of the approximation error is $ \\frac{1}{2}h |f''(x)| $, which is linear in $h$.\n",
    "\n",
    "\n",
    "The total error $ \\epsilon $ on our derivative, in the worst case, is\n",
    "\n",
    "\\begin{equation}\n",
    "    \\epsilon = \\frac{2C|f(x)|}{h} + \\frac{1}{2} h |f''(x)|\n",
    "\\end{equation}\n",
    "\n",
    "which has a minimum in\n",
    "\n",
    "\\begin{equation}\n",
    "    h_{\\text{min}} = \\sqrt{4C \\left| \\frac{f(x)}{f''(x)} \\right|}\n",
    "\\end{equation}\n",
    "\n",
    "Substituting this value we find\n",
    "\n",
    "\\begin{equation}\n",
    "    \\epsilon = h |f''(x)| = \\sqrt{4C \\left| f(x) f''(x) \\right|}\n",
    "\\end{equation}\n",
    "\n",
    "If $ f(x) $ and $ f''(x) $ are of order $ 1 $, we should choose $ h $ to be roughly of order $ \\sqrt{C} $, which will be typically about $ 10^{-8} $, and the final error on our result will also be about $ \\sqrt{C} $ or $ 10^{-8} $. A similar analysis can be applied to the backward difference, and gives the same end result. "
   ]
  }
 ],
 "metadata": {
  "kernelspec": {
   "display_name": "Python 3",
   "language": "python",
   "name": "python3"
  },
  "language_info": {
   "codemirror_mode": {
    "name": "ipython",
    "version": 3
   },
   "file_extension": ".py",
   "mimetype": "text/x-python",
   "name": "python",
   "nbconvert_exporter": "python",
   "pygments_lexer": "ipython3",
   "version": "3.9.6"
  }
 },
 "nbformat": 4,
 "nbformat_minor": 5
}
