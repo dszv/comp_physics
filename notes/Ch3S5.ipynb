{
 "cells": [
  {
   "cell_type": "markdown",
   "id": "e35b9148",
   "metadata": {},
   "source": [
    "# ANIMACIONES"
   ]
  },
  {
   "cell_type": "markdown",
   "id": "61ebe5c7",
   "metadata": {},
   "source": [
    "Las animaciones hechas por el paquete $\\textit{vpython}$ son debido a que este paquete nos permite cambiar la posición, color , tamaño de los objetos en la pantalla, Esto nos sirve para simular sistemas físicos. Este paquete es muy sencillo de usar, aunque ya no recibe soporte. \n",
    "En esencia, el como hacemos estos cambios es en lo que nos debemos centrar. Y para poder observar este cambio de buena manera, podemos usar la función $\\textit{rate(x)}$. Que lo que hace es decir a la computadora que espere hasta que haya pasado $1 / x$ de segundo desde la última vez que llamó a $\\textit{rate}$.\n"
   ]
  },
  {
   "cell_type": "code",
   "execution_count": null,
   "id": "e1703064",
   "metadata": {
    "scrolled": true
   },
   "outputs": [],
   "source": [
    "from vpython import *\n",
    "import math\n",
    "from numpy import arange\n",
    "scene = canvas(background=vector(0,0,0.15))\n",
    "#inicializamos nuestras esferas\n",
    "mer=sphere(radius=1.5,color=vector(0.7, 0.6, 0.4))\n",
    "mar=sphere(radius=1.59,color=vector(0.88,0.33,0.33))\n",
    "ven=sphere(radius=1.89,color=vector(0.86, 0.6, 0.22))\n",
    "ear=sphere(radius=1.95,color=vector(0.18,0.67,0.8),make_trail=True,interval=1)\n",
    "jup=sphere(radius=4.6,color=vector(0.79,0.76,0.72))\n",
    "sat=sphere(radius=3.9,color=vector(0.88,0.76,0.54))\n",
    "sun=sphere(radius=6,color=vector(1,0.48,0))\n",
    "#mediante un loop for cambiamos la posición de las esferas, dando\n",
    "#la apariecia de animación(movimiento)\n",
    "for i in arange (0,100*pi,0.1):\n",
    "    #según cambiemos el rate, veremos movimientos más rapidos o lentos\n",
    "    rate(25)\n",
    "    #mantenemos el sol en el centro\n",
    "    sun.pos=vector(0,0,0)\n",
    "    #usando coordenadas polares, donde \"i\" es nuestra cordenada angular\n",
    "    x=10*cos(i/1)\n",
    "    y=10*sin(i/1)\n",
    "    #usamos el siguiente comando para definir la nueva posición\n",
    "    mer.pos=vector(x,y,0)\n",
    "    x=39*cos(i/7.8)\n",
    "    y=39*sin(i/7.8)\n",
    "    mar.pos=vector(x,y,0)\n",
    "    x=18.7*cos(i/2.5)\n",
    "    y=18.7*sin(i/2.5)\n",
    "    ven.pos=vector(x,y,0)\n",
    "    x=25.7*cos(i/4.1)\n",
    "    y=25.7*sin(i/4.1)\n",
    "    ear.pos=vector(x,y,0)\n",
    "    x=65*cos(i/44)\n",
    "    y=65*sin(i/44)\n",
    "    jup.pos=vector(x,y,0)\n",
    "    x=98*cos(i/122)\n",
    "    y=98*sin(i/122)\n",
    "    sat.pos=vector(x,y,0)\n",
    "        "
   ]
  },
  {
   "cell_type": "code",
   "execution_count": null,
   "id": "382e4ff6",
   "metadata": {},
   "outputs": [],
   "source": [
    "#el autoscale, se usa para ver la perspectiva del observador\n",
    "#que se puede cambiar \n",
    "d=display(autoscale=False) \n",
    "\n",
    "s=sphere(pos=vector(1,0,0))\n",
    "s.pos=vector(2,0,0)\n",
    "#también podemos cambiar el background \n",
    "scene.background=color.blue"
   ]
  },
  {
   "cell_type": "code",
   "execution_count": null,
   "id": "f1cacc40",
   "metadata": {},
   "outputs": [],
   "source": []
  }
 ],
 "metadata": {
  "kernelspec": {
   "display_name": "Python 3",
   "language": "python",
   "name": "python3"
  },
  "language_info": {
   "codemirror_mode": {
    "name": "ipython",
    "version": 3
   },
   "file_extension": ".py",
   "mimetype": "text/x-python",
   "name": "python",
   "nbconvert_exporter": "python",
   "pygments_lexer": "ipython3",
   "version": "3.8.8"
  },
  "vp": {
   "base_numbering": 1,
   "nav_menu": {},
   "number_sections": true,
   "sideBar": true,
   "title_cell": "VisualPython",
   "title_sidebar": "VisualPython",
   "vpPosition": {
    "height": "calc(100% - 180px)",
    "right": "10px",
    "top": "110px",
    "width": "50%"
   },
   "vp_cell": false,
   "vp_section_display": true,
   "vp_window_display": false
  }
 },
 "nbformat": 4,
 "nbformat_minor": 5
}
