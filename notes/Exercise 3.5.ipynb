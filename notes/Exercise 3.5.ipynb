{
 "cells": [
  {
   "cell_type": "markdown",
   "id": "7c1cbdd9",
   "metadata": {},
   "source": [
    "# GRAPHICS AND VISUALIZATION"
   ]
  },
  {
   "cell_type": "markdown",
   "id": "d21c33cd",
   "metadata": {},
   "source": [
    "## Animation"
   ]
  },
  {
   "cell_type": "code",
   "execution_count": 1,
   "id": "8516de92",
   "metadata": {},
   "outputs": [
    {
     "data": {
      "text/html": [
       "<div id=\"glowscript\" class=\"glowscript\"></div>"
      ],
      "text/plain": [
       "<IPython.core.display.HTML object>"
      ]
     },
     "metadata": {},
     "output_type": "display_data"
    },
    {
     "data": {
      "application/javascript": [
       "if (typeof Jupyter !== \"undefined\") { window.__context = { glowscript_container: $(\"#glowscript\").removeAttr(\"id\")};}else{ element.textContent = ' ';}"
      ],
      "text/plain": [
       "<IPython.core.display.Javascript object>"
      ]
     },
     "metadata": {},
     "output_type": "display_data"
    }
   ],
   "source": [
    "from vpython import*"
   ]
  },
  {
   "cell_type": "code",
   "execution_count": 2,
   "id": "909c37ef",
   "metadata": {},
   "outputs": [],
   "source": [
    "from math import pi,sin, cos"
   ]
  },
  {
   "cell_type": "code",
   "execution_count": 3,
   "id": "90506f5a",
   "metadata": {},
   "outputs": [],
   "source": [
    "from numpy import arange"
   ]
  },
  {
   "cell_type": "markdown",
   "id": "01e18fec",
   "metadata": {},
   "source": [
    "### Exercise 3.5: Visualization of the solar system\n",
    "a)The Sun and planets as spheres in their appropiate positions and with sizes proportional to their actual sizes. Because the radii of the planets are tiny compared to the distances between them, represent the planets by spheres with raddi $c_{1}$ times larger than theur correct proportionate values, so that you can see them clearly. Find a good value for $c_{1}$ that makes the planets visible. You'll also need to find a good radius for the Sun. Choose any value that gives a clear visualization.(It doesn't work to scale the radius of the Sun by the same factor you use for the planets, because it'll come out looking much too large. So just use whatever works.) For added realism, you may also wantto make your spheres different colors. For instance, Earth could be a blue and Sun could be yellow."
   ]
  },
  {
   "cell_type": "code",
   "execution_count": 4,
   "id": "aa1ed355",
   "metadata": {
    "scrolled": false
   },
   "outputs": [
    {
     "data": {
      "application/javascript": [
       "if (typeof Jupyter !== \"undefined\") {require.undef(\"nbextensions/vpython_libraries/glow.min\");}else{element.textContent = ' ';}"
      ],
      "text/plain": [
       "<IPython.core.display.Javascript object>"
      ]
     },
     "metadata": {},
     "output_type": "display_data"
    },
    {
     "data": {
      "application/javascript": [
       "if (typeof Jupyter !== \"undefined\") {require.undef(\"nbextensions/vpython_libraries/glowcomm\");}else{element.textContent = ' ';}"
      ],
      "text/plain": [
       "<IPython.core.display.Javascript object>"
      ]
     },
     "metadata": {},
     "output_type": "display_data"
    },
    {
     "data": {
      "application/javascript": [
       "if (typeof Jupyter !== \"undefined\") {require.undef(\"nbextensions/vpython_libraries/jquery-ui.custom.min\");}else{element.textContent = ' ';}"
      ],
      "text/plain": [
       "<IPython.core.display.Javascript object>"
      ]
     },
     "metadata": {},
     "output_type": "display_data"
    },
    {
     "data": {
      "application/javascript": [
       "if (typeof Jupyter !== \"undefined\") {require([\"nbextensions/vpython_libraries/glow.min\"], function(){console.log(\"GLOW LOADED\");});}else{element.textContent = ' ';}"
      ],
      "text/plain": [
       "<IPython.core.display.Javascript object>"
      ]
     },
     "metadata": {},
     "output_type": "display_data"
    },
    {
     "data": {
      "application/javascript": [
       "if (typeof Jupyter !== \"undefined\") {require([\"nbextensions/vpython_libraries/glowcomm\"], function(){console.log(\"GLOWCOMM LOADED\");});}else{element.textContent = ' ';}"
      ],
      "text/plain": [
       "<IPython.core.display.Javascript object>"
      ]
     },
     "metadata": {},
     "output_type": "display_data"
    },
    {
     "data": {
      "application/javascript": [
       "if (typeof Jupyter !== \"undefined\") {require([\"nbextensions/vpython_libraries/jquery-ui.custom.min\"], function(){console.log(\"JQUERY LOADED\");});}else{element.textContent = ' ';}"
      ],
      "text/plain": [
       "<IPython.core.display.Javascript object>"
      ]
     },
     "metadata": {},
     "output_type": "display_data"
    },
    {
     "data": {
      "text/html": [
       "<div id=\"glowscript\" class=\"glowscript\"></div>"
      ],
      "text/plain": [
       "<IPython.core.display.HTML object>"
      ]
     },
     "metadata": {},
     "output_type": "display_data"
    },
    {
     "data": {
      "application/javascript": [
       "if (typeof Jupyter !== \"undefined\") { window.__context = { glowscript_container: $(\"#glowscript\").removeAttr(\"id\")};}else{ element.textContent = ' ';}"
      ],
      "text/plain": [
       "<IPython.core.display.Javascript object>"
      ]
     },
     "metadata": {},
     "output_type": "display_data"
    }
   ],
   "source": [
    "sun = sphere(pos=vector(0,0,0), radius = 0.5, color = color.yellow)\n",
    "mercurio = sphere(pos = vector(1,0,0), radius = 0.1 , color = color.white)\n",
    "venus = sphere(pos=vector(1.87,0,0), radius = 0.248, color = color.green)\n",
    "tierra = sphere(pos=vector(2.58,0,0), radius = 0.261, color = color.cyan)\n",
    "marte = sphere(pos=vector(3.94,0,0), radius = 0.138, color = color.red)\n",
    "jupiter = sphere(pos=vector(13.44,0,0), radius = 2.83)\n",
    "saturn = sphere(pos=vector(24.76,0,0), radius = 2.34, color = color.blue)\n",
    "scene = canvas()"
   ]
  },
  {
   "cell_type": "markdown",
   "id": "72491222",
   "metadata": {},
   "source": [
    "b)The motion of the planets as they move aroun the Sun(by making the spheres of the planets move). In the interests of allevianting boredom, construct yout program so that time in yout animation runs a factor of c2 faster than actual time. Find a good $c_{2}$ that makes the motion of the orbits easily visible but not unreasonably fast. Make use of the rate function to make your animation run smoothly."
   ]
  },
  {
   "cell_type": "code",
   "execution_count": null,
   "id": "8720eee5",
   "metadata": {},
   "outputs": [],
   "source": [
    "for theta in arange(0, (244.52)*pi, 0.1):\n",
    "    rate(50)\n",
    "    x1 = cos(theta)\n",
    "    y1 = sin(theta)\n",
    "    mercurio.pos = vector(x1 ,y1, 0)\n",
    "    \n",
    "    x2 = cos(theta/(2.55))\n",
    "    y2 = sin(theta/(2.55))\n",
    "    venus.pos = vector((1.87)*x2, (1.87)*y2, 0)\n",
    "    \n",
    "    x3 = cos(theta/(4.15))\n",
    "    y3 = sin(theta/(4.15))\n",
    "    tierra.pos = vector((2.58)*x3, (2.58)*y3, 0)\n",
    "    \n",
    "    x4 = cos(theta/(7.81))\n",
    "    y4 = sin(theta/(7.81))\n",
    "    marte.pos = vector((3.94)*x4, (3.94)*y4, 0)\n",
    "    \n",
    "    x5 = cos(theta/(49.22))\n",
    "    y5 = sin(theta/(49.22))\n",
    "    jupiter.pos = vector((13.44)*x5, (13.44)*y5, 0)\n",
    "    \n",
    "    x6 = cos(theta/(122.26))\n",
    "    y6 = sin(theta/(122.26))\n",
    "    saturn. pos = vector((24.76)*x6, (24.76)*y6, 0)\n",
    "scene = canvas()"
   ]
  },
  {
   "cell_type": "code",
   "execution_count": null,
   "id": "e6beb93c",
   "metadata": {},
   "outputs": [],
   "source": []
  }
 ],
 "metadata": {
  "kernelspec": {
   "display_name": "Python 3 (ipykernel)",
   "language": "python",
   "name": "python3"
  },
  "language_info": {
   "codemirror_mode": {
    "name": "ipython",
    "version": 3
   },
   "file_extension": ".py",
   "mimetype": "text/x-python",
   "name": "python",
   "nbconvert_exporter": "python",
   "pygments_lexer": "ipython3",
   "version": "3.9.6"
  }
 },
 "nbformat": 4,
 "nbformat_minor": 5
}
