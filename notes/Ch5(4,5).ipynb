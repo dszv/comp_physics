{
 "cells": [
  {
   "cell_type": "markdown",
   "id": "internal-version",
   "metadata": {},
   "source": [
    "## 5.4 Romberg Integration\n",
    "\n",
    "Trapezoidal rule: True value of the integral\n",
    "\n",
    "$$ I = I_i + ch^2_i + O \\left( h^4_i \\right) $$\n",
    "\n",
    "Leading-order error\n",
    "\n",
    "$$ ch^2_i = \\frac{1}{3} \\left( I_i - I_{i-1} \\right) $$\n",
    "\n",
    "So in other words\n",
    "\n",
    "$$ I = I_i + \\frac{1}{3} \\left( I_i - I_{i-1} \\right) + O \\left( h^4_i \\right) $$\n",
    "\n",
    "as accurately as Simpson's rule. Refining our notation:\n",
    "\n",
    "$$ R_{i,1} = I_i \\quad , \\quad R_{i,2} = I_i + \\frac{1}{3}(I_i - I_{i-1}) = R_{i,1} + \\frac{1}{3} \\left( R_{i,1} - R_{i-1,1} \\right) $$\n",
    "\n",
    "then\n",
    "\n",
    "$$ I = R_{i,2} + c_2 h^4_i + O \\left( h^6_i \\right) $$\n",
    "\n",
    "where $ c_2 $ is another constant and $I$ contains only even powers of $ h_i $. Analogously\n",
    "\n",
    "$$ I = R_{i,2} + \\frac{1}{15} \\left( R_{i,2} - R_{i-1,2} \\right) + O \\left( h^6_i \\right) $$\n",
    "\n",
    "In general\n",
    "\n",
    "$$ I = R_{i, m+1} + O(h^{2m+2}_i) $$\n",
    "\n",
    "where \n",
    "\n",
    "\\begin{equation}\\label{5.51}\\tag{5.51}\n",
    "    R_{i, m+1} = R_{i, m} + \\frac{1}{4^m - 1} \\left( R_{i,m} - R_{i-1,m} \\right)\n",
    "\\end{equation}\n",
    "\n",
    "with error\n",
    "\n",
    "\\begin{equation}\\label{5.49}\\tag{5.49}\n",
    "    c_m h^{2m}_i = \\frac{1}{4^m - 1} \\left( R_{i,m} - R_{i-1,m} \\right) + O \\left( h^{2m+2}_i \\right)\n",
    "\\end{equation}\n",
    "\n",
    "### Algorithm:\n",
    "\n",
    "1. Calculate $ I_1 \\equiv R_{1,1} $ and $ I_2 \\equiv R_{2,1} $\n",
    "2. Calculate $ R_{2,2} $\n",
    "3. Calculate $ I_3 \\equiv R_{3,1} $ and using \\eqref{5.51} calculate $ R_{3,2} $ and $ R_{3,3} $\n",
    "4. At each successive stage, compute $ I_i \\equiv R_{i,1} $ and then $ R_{i,2} \\dots R_{i,i} $\n",
    "5. Calculate error with \\eqref{5.49} and estimate the integral if some desired target is reached.\n",
    "\n",
    "<img src='545.png' width=\"400\" height=\"400\">\n",
    "\n",
    "The equation \\eqref{5.49} says the error on $ R_{n,n} $ would be $ \\left( R_{n,n} - R_{n-1,n} \\right)/(4^n - 1) $, but there is no $ R_{n-1,n} $ so we cannot use the formula in this case. We have to content ourselves with the error estimate for the penultimate entry in each row.\n",
    "\n",
    "This method is based on a series expansion in powers of $ h $, so it works best in cases where such power series converge rapidly. The integrand should be smooth and \"well-behaved\".\n",
    "\n",
    "Cons: Same computer time. Extra programming.\n",
    "\n",
    "Pros: Accurate to much higher order in $ h $ than the trapezoidal rule (or even Simpson's rule). Less time needed to evaluate integrals."
   ]
  },
  {
   "cell_type": "code",
   "execution_count": 1,
   "id": "sharing-password",
   "metadata": {},
   "outputs": [],
   "source": [
    "# Loading packages\n",
    "import numpy as np\n",
    "import scipy.integrate as int"
   ]
  },
  {
   "cell_type": "code",
   "execution_count": 2,
   "id": "familiar-fields",
   "metadata": {},
   "outputs": [],
   "source": [
    "# function\n",
    "def f(x):\n",
    "    return x**4 - 2*x +1"
   ]
  },
  {
   "cell_type": "code",
   "execution_count": 3,
   "id": "monetary-weather",
   "metadata": {},
   "outputs": [
    {
     "data": {
      "text/plain": [
       "4.401066656"
      ]
     },
     "execution_count": 3,
     "metadata": {},
     "output_type": "execute_result"
    }
   ],
   "source": [
    "# trapezoid method with Scipy\n",
    "a, b = 0.0, 2.0\n",
    "\n",
    "N = 100\n",
    "h = (b - a)/N\n",
    "x = np.arange(a, b+h, h)\n",
    "y = f(x)\n",
    "\n",
    "int.trapezoid(y, x)"
   ]
  },
  {
   "cell_type": "code",
   "execution_count": 12,
   "id": "legal-marriage",
   "metadata": {},
   "outputs": [
    {
     "name": "stdout",
     "output_type": "stream",
     "text": [
      "4.4\n"
     ]
    }
   ],
   "source": [
    "def trap(N):\n",
    "    h = (b - a)/N\n",
    "    x = np.arange(a, b+h, h)\n",
    "    y = f(x)\n",
    "    return int.trapezoid(y, x)\n",
    "\n",
    "# Romberg integration\n",
    "\n",
    "a, b = 0.0, 2.0\n",
    "N1 = 1 # Scipy convention\n",
    "def N(N1, i):\n",
    "    return N1*2**(i - 1)\n",
    "\n",
    "def R(i, mp):\n",
    "    if mp > i:\n",
    "        return None\n",
    "    if mp == 1:\n",
    "        return trap(N(N1, i)) # Ri1\n",
    "    elif i == 2 and mp == 2:\n",
    "        return R(2, 1) + (1/3)*(R(2, 1) - R(1, 1)) # R22\n",
    "    else:\n",
    "        return R(i, mp - 1) + (1/(4**(mp - 1) - 1))*(R(i, mp - 1) - R(i-1, mp - 1)) # Rim+1\n",
    "\n",
    "print(R(3, 3))"
   ]
  },
  {
   "cell_type": "code",
   "execution_count": 5,
   "id": "latter-moses",
   "metadata": {},
   "outputs": [
    {
     "name": "stdout",
     "output_type": "stream",
     "text": [
      "Romberg integration of <function vectorize1.<locals>.vfunc at 0x7fd87fa7ec10> from [0.0, 2.0]\n",
      "\n",
      " Steps  StepSize   Results\n",
      "     1  2.000000 14.000000 \n",
      "     2  1.000000  7.000000  4.666667 \n",
      "     4  0.500000  5.062500  4.416667  4.400000 \n",
      "     8  0.250000  4.566406  4.401042  4.400000  4.400000 \n",
      "\n",
      "The final result is 4.4 after 9 function evaluations.\n"
     ]
    },
    {
     "data": {
      "text/plain": [
       "4.4"
      ]
     },
     "execution_count": 5,
     "metadata": {},
     "output_type": "execute_result"
    }
   ],
   "source": [
    "# Romberg method with Scipy, convention N1 = 1\n",
    "\n",
    "function = lambda x: x**4 - 2*x +1\n",
    "int.romberg(function, a, b, show=True)"
   ]
  },
  {
   "cell_type": "code",
   "execution_count": 13,
   "id": "adapted-blink",
   "metadata": {},
   "outputs": [
    {
     "data": {
      "text/plain": [
       "14"
      ]
     },
     "execution_count": 13,
     "metadata": {},
     "output_type": "execute_result"
    }
   ],
   "source": [
    "# Curiosity\n",
    "\n",
    "L = lambda a : a*2\n",
    "L(7)"
   ]
  },
  {
   "cell_type": "markdown",
   "id": "dress-baseline",
   "metadata": {},
   "source": [
    "# 5.5 Higher-order integration methods\n",
    "\n",
    "- Trapezoidal rule: straight-line approx.\n",
    "- Simpson's rule: quadratic approx.\n",
    "- Higher-order rules: higher-order polynomial approx. -> Newton-Cotes formulas\n",
    "\n",
    "In general:\n",
    "\n",
    "$$ \\int_b^a dx f(x) \\approx \\sum_{k=1}^N w_k f(x_k ) $$\n",
    "\n",
    "where $x_k$ are the positions of the sample points and $w_k$ are some set of weights.\n",
    "\n",
    "<img src='5452.png' width=\"700\" height=\"700\">\n",
    "\n",
    "The $k$th Newton-Cotes rule is exact if the function being integrated is a degree-$k$ polynomial."
   ]
  },
  {
   "cell_type": "code",
   "execution_count": 7,
   "id": "super-yield",
   "metadata": {},
   "outputs": [
    {
     "name": "stdout",
     "output_type": "stream",
     "text": [
      "Integral: 4.4 \n",
      "Error: 0.0\n"
     ]
    }
   ],
   "source": [
    "# Newton-Cotes method with Scipy, convention N = order\n",
    "\n",
    "a, b = 0.0, 2.0\n",
    "\n",
    "N = 10\n",
    "h = (b - a)/N\n",
    "x = np.arange(a, b+h, h)\n",
    "y = x**4 - 2*x +1\n",
    "\n",
    "an, B = int.newton_cotes(N, 1) #Scipy convention\n",
    "I = h * np.sum(an * y)\n",
    "\n",
    "print(\"\"\"Integral: {0} \\nError: {1}\"\"\".format(I, I - 4.4))"
   ]
  },
  {
   "cell_type": "markdown",
   "id": "legal-alarm",
   "metadata": {},
   "source": [
    "More ideas:\n",
    "- We have $N$ sample points, we could just fit one $(N-1)$th-degree polynomial to the whole integration interval, and get an integration method that is exact for $N-1$th-degree polynomials, and for any lower-degree as well.\n",
    "- It is also possible to derive integration methods that use unevenly spaced points, when is needed to do integrals very fast.\n",
    "- It might be possible to create an integration rule that is exact for polynomials up to degree $2N-1$.\n",
    "- Gaussian quadrature."
   ]
  }
 ],
 "metadata": {
  "kernelspec": {
   "display_name": "Python 3",
   "language": "python",
   "name": "python3"
  },
  "language_info": {
   "codemirror_mode": {
    "name": "ipython",
    "version": 3
   },
   "file_extension": ".py",
   "mimetype": "text/x-python",
   "name": "python",
   "nbconvert_exporter": "python",
   "pygments_lexer": "ipython3",
   "version": "3.9.6"
  }
 },
 "nbformat": 4,
 "nbformat_minor": 5
}
