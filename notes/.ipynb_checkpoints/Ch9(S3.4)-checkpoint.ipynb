{
 "cells": [
  {
   "cell_type": "markdown",
   "id": "bc579dd4-3bed-4504-9f8e-4b9543726731",
   "metadata": {},
   "source": [
    "# Métodos espectrales"
   ]
  },
  {
   "cell_type": "markdown",
   "id": "d0c77823-b5e4-4619-98f0-b808a448403f",
   "metadata": {},
   "source": [
    "Además del método de diferencias finitas, se encuentran numerosos métodos con menores problemas de estabilidad y mayor rapidez al solucionar las EDPs, uno de estos es el método espectral o método de la transformada de Fourier.\n",
    "\n",
    "Consideremos la ecuación de onda\n",
    "$$\\dfrac{\\partial^2 \\phi}{\\partial t^2} = v^2 \\dfrac{\\partial^2 \\phi}{\\partial x^2}$$\n",
    "para una onda en una cuerda de largo $L$, fija en los entremos, tal que $\\phi = 0$ en $x=0, L$. Consideremos la solución de prueba\n",
    "$$\\phi_k(x,t) = \\sin \\left( \\dfrac{\\pi kx}{L} \\right) e^{i\\omega t}$$\n",
    "\n",
    "Cuando $k$ es un entero, se satisfacen las condiciones de frotera del problema, además se encuentra que\n",
    "$$\\omega = \\dfrac{\\pi vk}{L}$$\n",
    "\n",
    "Ahora, dividamos la cuerda en $N$ intervalos iguales, acotado por $N+1$ puntos de rejilla. La posición de los puntos es\n",
    "$$x_n = \\dfrac{n}{N} L$$\n",
    "Y la solución en estos puntos es\n",
    "$$\\phi_k(x_n,t) = \\sin \\left( \\dfrac{\\pi kn}{N} \\right) \\exp \\left( i \\dfrac{\\pi vkt}{L} \\right)$$\n",
    "\n",
    "Como la ecuación de onda es lineal, la solución general se escribe como\n",
    "$$\\phi(x_n,t) = \\dfrac{1}{N} \\sum_{k=1}^{N-1} b_k \\sin \\left( \\dfrac{\\pi kn}{N} \\right) \\exp \\left( i \\dfrac{\\pi vkt}{L} \\right),$$ donde los $b_k = \\alpha_k + i \\beta_k$ son complejos. Tomando la parte real y evaluando en $t=0$\n",
    "$$\\phi(x_n,0) = \\dfrac{1}{N} \\sum_{k=1}^{N-1} \\alpha_k \\sin \\left( \\dfrac{\\pi kn}{N} \\right)$$\n",
    "Esta es una transformada de Fourier por senos con coeficientes $\\alpha_k$ de cualquier conjunto de puntos $\\phi(x_n)$ de las condiciones iniciales. Asimismo, evaluando la primera derivada temporal en $t=0$\n",
    "$$\\dfrac{\\partial \\phi}{\\partial t}(x_n,0) = -\\left( \\dfrac{\\pi v}{L} \\right) \\dfrac{1}{N} \\sum_{k=1}^{N-1} k \\beta_k \\sin \\left( \\dfrac{\\pi kn}{N} \\right),$$\n",
    "que es otra transformada por senos pero con coeficientes $k\\beta_k$. Por lo tanto, las condiciones iniciales nos permiten obtener la solución del problema al calcular los coeficientes $kb_k$ con FDST."
   ]
  },
  {
   "cell_type": "markdown",
   "id": "8848aa1d-a762-469d-9c6d-95f9449e7640",
   "metadata": {},
   "source": [
    "Teniendo los coeficientes, y tomando la parte real de la solución, tenemos que\n",
    "$$\\phi(x_n,t) = \\dfrac{1}{N} \\sum_{k=1}^{N-1} \\left[ \\alpha_k \\cos\\left(\\dfrac{\\pi vkt}{L} \\right) - \\beta_k \\sin \\left(\\dfrac{\\pi vkt}{L} \\right) \\right]\\sin \\left( \\dfrac{\\pi kn}{N} \\right),$$\n",
    "que es otra serie por senos. Entonces podemos evaluar la suma usando la transformada inversa por senos.\n",
    "\n",
    "Este método es más lento que FTCS para calcular la solución en un solo intervalo de tiempo, sin embargo FTCS requiere muchos pasos para obtener la solución mientras el método espectral requiere solo uno. Este método tiene limitaciones, pues solo funciona para EDPs lineales con condiciones de contorno simples tal que $\\phi = 0$ en el borde de una región simple o caja."
   ]
  },
  {
   "cell_type": "code",
   "execution_count": 1,
   "id": "801dd797-4e20-44f7-a725-529b421ad4b2",
   "metadata": {},
   "outputs": [
    {
     "ename": "ModuleNotFoundError",
     "evalue": "No module named 'dcst'",
     "output_type": "error",
     "traceback": [
      "\u001b[0;31m---------------------------------------------------------------------------\u001b[0m",
      "\u001b[0;31mModuleNotFoundError\u001b[0m                       Traceback (most recent call last)",
      "\u001b[0;32m<ipython-input-1-81f15104f4c2>\u001b[0m in \u001b[0;36m<module>\u001b[0;34m\u001b[0m\n\u001b[1;32m      1\u001b[0m \u001b[0;32mimport\u001b[0m \u001b[0mnumpy\u001b[0m \u001b[0;32mas\u001b[0m \u001b[0mnp\u001b[0m\u001b[0;34m\u001b[0m\u001b[0;34m\u001b[0m\u001b[0m\n\u001b[1;32m      2\u001b[0m \u001b[0;32mimport\u001b[0m \u001b[0mmatplotlib\u001b[0m\u001b[0;34m.\u001b[0m\u001b[0mpyplot\u001b[0m \u001b[0;32mas\u001b[0m \u001b[0mplt\u001b[0m\u001b[0;34m\u001b[0m\u001b[0;34m\u001b[0m\u001b[0m\n\u001b[0;32m----> 3\u001b[0;31m \u001b[0;32mimport\u001b[0m \u001b[0mdcst\u001b[0m \u001b[0;32mas\u001b[0m \u001b[0mdc\u001b[0m\u001b[0;34m\u001b[0m\u001b[0;34m\u001b[0m\u001b[0m\n\u001b[0m",
      "\u001b[0;31mModuleNotFoundError\u001b[0m: No module named 'dcst'"
     ]
    }
   ],
   "source": [
    "import numpy as np\n",
    "import matplotlib.pyplot as plt\n",
    "import dcst as dc"
   ]
  },
  {
   "cell_type": "code",
   "execution_count": null,
   "id": "c5ba4de7-c80a-401c-ac98-8232d552bb03",
   "metadata": {},
   "outputs": [],
   "source": [
    "# Constants\n",
    "\n",
    "L = 1.   # Longitud de la cuerda\n",
    "N = 200  # Número de sample points en x\n",
    "T = 0.01  # Intervalo de tiempo\n",
    "M = 20   # Pasos temporales\n",
    "v = 1    # Velocidad"
   ]
  },
  {
   "cell_type": "code",
   "execution_count": null,
   "id": "23d6dd87-ca40-46fe-83e2-c31d0d6e78ef",
   "metadata": {},
   "outputs": [],
   "source": [
    "def InitialValue(x):\n",
    "    if 0 <= x and x <= 2/3*L:\n",
    "        return 3/20*x\n",
    "    if 2/3*L < x and x <= L:\n",
    "        return 3/10*(L-x)\n",
    "    else:\n",
    "        return 0\n",
    "\n",
    "def InitialDerivative(x):\n",
    "    return 0"
   ]
  },
  {
   "cell_type": "code",
   "execution_count": null,
   "id": "fb084945-be65-46f4-ae49-2cdac4e79604",
   "metadata": {},
   "outputs": [],
   "source": [
    "x = np.linspace(0, L, N)\n",
    "\n",
    "α = dc.dst(np.array([InitialValue(y) for y in x]))\n",
    "β = dc.dst(np.array([InitialDerivative(y) for y in x]))"
   ]
  },
  {
   "cell_type": "code",
   "execution_count": null,
   "id": "c5ec5b2b-8fe3-49d8-bdec-e4117810270d",
   "metadata": {},
   "outputs": [],
   "source": [
    "def Solution(t, a, b, pars):\n",
    "    c = np.empty_like(a)\n",
    "    v, L = pars\n",
    "    c[0] = 0\n",
    "    \n",
    "    for k in range(1, len(c)):\n",
    "        c[k] = a[k]*np.cos(np.pi*v*k*t/L) + (L/(np.pi*v*k))*b[k]*np.sin(np.pi*v*k*t/L) \n",
    "    \n",
    "    return c"
   ]
  },
  {
   "cell_type": "code",
   "execution_count": null,
   "id": "2b318cb9-ec9e-40bc-8782-f761d9f8ff66",
   "metadata": {},
   "outputs": [],
   "source": [
    "plt.plot(x, dc.idst(Solution(0, α, β, [v, L])))\n",
    "plt.show()"
   ]
  },
  {
   "cell_type": "code",
   "execution_count": null,
   "id": "f90fd388-d40c-4d83-bdc3-f88660114245",
   "metadata": {},
   "outputs": [],
   "source": [
    "fig, ax = plt.subplots()\n",
    "ax.set_xlim([-0.01, L + 0.01])\n",
    "ax.set_ylim([-L/9, L/9])\n",
    "line, = ax.plot([], [], lw=2)\n",
    "\n",
    "def init():\n",
    "    line.set_data([], [])\n",
    "    return (line, )\n",
    "\n",
    "def animate(i):\n",
    "    x = np.linspace(0, L, N)\n",
    "    y = dc.idst(Solution(i*0.01, α, β, [v, L]))\n",
    "    line.set_data(x, y)\n",
    "    return (line, )\n",
    "\n",
    "from matplotlib.animation import FuncAnimation\n",
    "anim = FuncAnimation(fig, animate, frames=200, init_func=init, interval=100, blit=True)\n",
    "\n",
    "from IPython.display import HTML\n",
    "HTML(anim.to_html5_video())\n",
    "# % matplotlib notebook"
   ]
  },
  {
   "cell_type": "markdown",
   "id": "9cfcf2e1-f5e6-4107-9d7f-ff4b1e3732a4",
   "metadata": {},
   "source": [
    "## The Schrodinger equation and the spectral method"
   ]
  },
  {
   "cell_type": "markdown",
   "id": "987843a1-7df9-4214-b39f-7c4cddd09d87",
   "metadata": {},
   "source": [
    "$$-\\dfrac{\\hbar^2}{2M} \\dfrac{\\partial^2 \\psi}{\\partial x^2} = i\\hbar \\dfrac{\\partial \\psi}{\\partial t}$$\n",
    "\n",
    "$$\\psi(x_n, t) = \\sum_{k=1}^{N-1} b_k \\sin\\left( \\dfrac{\\pi kn}{N} \\right) \\exp\\left( i \\dfrac{\\pi^2 \\hbar k^2}{2ML^2} t \\right)$$\n",
    "\n",
    "Con la condición inicial\n",
    "$$\\psi(x, 0) = \\exp\\left[ -\\dfrac{(x-x_0)^2}{2\\sigma^2} \\right] e^{ikx}$$\n",
    "con $$\\psi = 0$$ en $x=0, L$"
   ]
  },
  {
   "cell_type": "code",
   "execution_count": null,
   "id": "ed962a0e-6e3b-47af-87b4-78dcb1097b84",
   "metadata": {},
   "outputs": [],
   "source": [
    "# Constants\n",
    "from scipy.constants import hbar, m_e\n",
    "h, m = hbar, m_e\n",
    "L = 1e-8\n",
    "x0 = L/2\n",
    "σ = 1e-10\n",
    "κ = 5e10\n",
    "N = 1000"
   ]
  },
  {
   "cell_type": "code",
   "execution_count": null,
   "id": "f3dcbe40-8551-4109-97a5-dc4532b14856",
   "metadata": {},
   "outputs": [],
   "source": [
    "# import cmath as c\n",
    "\n",
    "def InitialCond(x):\n",
    "    if x==0 or x==L:\n",
    "        return 0\n",
    "    else: \n",
    "        return np.exp(-(x-x0)**2/(2*σ**2))*np.exp(1j*κ*x)"
   ]
  },
  {
   "cell_type": "code",
   "execution_count": null,
   "id": "c2d68f25-9b62-44db-87ba-c019ea291380",
   "metadata": {},
   "outputs": [],
   "source": [
    "x = np.linspace(0, L, N)\n",
    "\n",
    "psi0r = np.real(np.array([InitialCond(y) for y in x]))\n",
    "psi0i = np.imag(np.array([InitialCond(y) for y in x]))\n",
    "\n",
    "α = dc.dst(psi0r) \n",
    "η = dc.dst(psi0i)"
   ]
  },
  {
   "cell_type": "code",
   "execution_count": null,
   "id": "8a663579-f232-4e2d-a2f5-56c521218f1f",
   "metadata": {},
   "outputs": [],
   "source": [
    "def Coeff(t, a, n):\n",
    "    c = np.empty_like(α)\n",
    "    c[0] = 0\n",
    "    \n",
    "    for k in range(1, len(c)):\n",
    "        c[k] = a[k]*np.cos((np.pi**2*h*k**2*t)/(2*m*L**2)) \\\n",
    "               - n[k]*np.sin((np.pi**2*h*k**2*t)/(2*m*L**2))\n",
    "        \n",
    "    return c"
   ]
  },
  {
   "cell_type": "code",
   "execution_count": null,
   "id": "ae4a8b0d-019e-47dc-892b-27c4bd3e6984",
   "metadata": {},
   "outputs": [],
   "source": [
    "psitest = dc.idst(Coeff(1e-16, α, η))\n",
    "plt.plot(x, psitest)\n",
    "plt.show()"
   ]
  },
  {
   "cell_type": "code",
   "execution_count": null,
   "id": "6f0aea9c-278c-4632-8d37-aae10312dd5a",
   "metadata": {},
   "outputs": [],
   "source": [
    "fig, ax = plt.subplots()\n",
    "ax.set_xlim([-1e-9, L + 1e-9])\n",
    "ax.set_ylim([-2.5, 2.5])\n",
    "line, = ax.plot([], [], lw=2)\n",
    "\n",
    "def init():\n",
    "    line.set_data([], [])\n",
    "    return (line, )\n",
    "\n",
    "def animate(i):\n",
    "    x = np.linspace(0, L, N)\n",
    "    y = dc.idst(Coeff(i*1e-16, α, η))\n",
    "    ax.set_title('t={0}'.format(i))\n",
    "    line.set_data(x, y)\n",
    "    return (line, )\n",
    "\n",
    "from matplotlib.animation import FuncAnimation\n",
    "anim1 = FuncAnimation(fig, animate, frames=100, init_func=init, interval=100, blit=True)\n",
    "\n",
    "# from IPython.display import HTML\n",
    "HTML(anim1.to_html5_video())"
   ]
  }
 ],
 "metadata": {
  "kernelspec": {
   "display_name": "Python 3",
   "language": "python",
   "name": "python3"
  },
  "language_info": {
   "codemirror_mode": {
    "name": "ipython",
    "version": 3
   },
   "file_extension": ".py",
   "mimetype": "text/x-python",
   "name": "python",
   "nbconvert_exporter": "python",
   "pygments_lexer": "ipython3",
   "version": "3.9.7"
  }
 },
 "nbformat": 4,
 "nbformat_minor": 5
}
