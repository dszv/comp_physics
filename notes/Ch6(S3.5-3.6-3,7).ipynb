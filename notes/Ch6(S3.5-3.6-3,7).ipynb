{
 "cells": [
  {
   "cell_type": "markdown",
   "id": "8ec1089d",
   "metadata": {},
   "source": [
    "## 3.5 Método de Newton"
   ]
  },
  {
   "cell_type": "markdown",
   "id": "54d56386",
   "metadata": {},
   "source": [
    "El método de Newton-Raphson se basa en encontrar la raíz de la función $f(x)$"
   ]
  },
  {
   "attachments": {
    "Imagen%201.png": {
     "image/png": "[encoded data removed]"
    }
   },
   "cell_type": "markdown",
   "id": "f14c109d",
   "metadata": {},
   "source": [
    "![Imagen%201.png](attachment:Imagen%201.png)"
   ]
  },
  {
   "cell_type": "markdown",
   "id": "765918f2",
   "metadata": {},
   "source": [
    "Consideramos un $x$ y trazamos la pendiente en esa posición, la cual corta en $x'$. Luego, la derivada de $f(x)$:\n",
    "$f'(x) = \\frac{f(x)}{\\Delta x}$\n",
    "\n",
    "Es decir:\n",
    "$x' = x - \\frac{f(x)}{f'(x)}$"
   ]
  },
  {
   "cell_type": "markdown",
   "id": "bfe08963",
   "metadata": {},
   "source": [
    "Entonces, basta conocer la derivada para y repetir el proceso las veces que sea necesario. Si la función tiene más de una raíz, el $x$ que tomemos será cercano a la raíz que se encuentre, de modo que podemos tomar otro $x$ para encontrar la otra raíz."
   ]
  },
  {
   "cell_type": "markdown",
   "id": "9e174004",
   "metadata": {},
   "source": [
    "Si hacemos una expansión en Taylor: $f(x^{*}) = f(x) + (x^{*}-x)f'(x) + \\frac{1}{2}(x^{*}-x)^{2}f''(x)$.\n",
    "\n",
    "Como $x^{*}$ es raíz, $f(x^{*}) = 0$ y si $x^{*} = x + \\epsilon$, $x^{*} = x' + \\epsilon '$:\n",
    "\n",
    "$\\epsilon ' = \\left[\\frac{-f''(x)}{2f'(x)}\\right]\\epsilon^{2}$"
   ]
  },
  {
   "cell_type": "markdown",
   "id": "a5f0df81",
   "metadata": {},
   "source": [
    "O sea, el método de Newton es de convergencia cuadrática, converge rápido."
   ]
  },
  {
   "cell_type": "markdown",
   "id": "cf54d94b",
   "metadata": {},
   "source": [
    "#### Ejemplo 6.4: Inversa de la tangente hiperbólica"
   ]
  },
  {
   "cell_type": "markdown",
   "id": "a7897bdf",
   "metadata": {},
   "source": [
    "$u = tanh(x)$  $\\rightarrow$ $tanh(x) - u = 0$"
   ]
  },
  {
   "cell_type": "markdown",
   "id": "eedb237c",
   "metadata": {},
   "source": [
    "$\\frac{d}{dx}tanh(x) = \\frac{1}{cosh^{2}(x)}$"
   ]
  },
  {
   "cell_type": "markdown",
   "id": "cb3f44fd",
   "metadata": {},
   "source": [
    "$x' = x - (tanh(x) -u)cosh^{2}(x)$"
   ]
  },
  {
   "cell_type": "code",
   "execution_count": 1,
   "id": "fba5854e",
   "metadata": {},
   "outputs": [],
   "source": [
    "from pylab import*\n",
    "from math import tanh, cosh"
   ]
  },
  {
   "cell_type": "code",
   "execution_count": 2,
   "id": "033d034c",
   "metadata": {
    "scrolled": false
   },
   "outputs": [
    {
     "name": "stdout",
     "output_type": "stream",
     "text": [
      "0.5493061443340548\n"
     ]
    }
   ],
   "source": [
    "prec1 = 1e-12\n",
    "def arctanh(u):\n",
    "    x = 0.0\n",
    "    delta = 1.0\n",
    "    while abs(delta)>prec1:\n",
    "        delta = (tanh(x) - u)*(cosh(x))**(2)\n",
    "        x = x- delta\n",
    "    return x\n",
    "print(arctanh(0.5))"
   ]
  },
  {
   "cell_type": "code",
   "execution_count": 3,
   "id": "c496cc80",
   "metadata": {},
   "outputs": [],
   "source": [
    "from numpy import*\n",
    "from pylab import plot, show"
   ]
  },
  {
   "cell_type": "code",
   "execution_count": 4,
   "id": "56a66d53",
   "metadata": {},
   "outputs": [
    {
     "data": {
      "image/png": "[encoded data removed]",
      "text/plain": [
       "<Figure size 432x288 with 1 Axes>"
      ]
     },
     "metadata": {
      "needs_background": "light"
     },
     "output_type": "display_data"
    }
   ],
   "source": [
    "upoints = linspace(-0.9999, 0.9999, 1000)\n",
    "xpoints = []\n",
    "for u in upoints:\n",
    "    xpoints.append(arctanh(u))\n",
    "plot(upoints, xpoints)\n",
    "grid()\n",
    "title(r'$tanh^{-1}$')\n",
    "xlabel('u')\n",
    "ylabel('x = arctanh(u)')\n",
    "ylim(-5,5 )\n",
    "show()"
   ]
  },
  {
   "cell_type": "code",
   "execution_count": null,
   "id": "e2a4d4f3",
   "metadata": {},
   "outputs": [],
   "source": []
  },
  {
   "cell_type": "markdown",
   "id": "cacd1a18",
   "metadata": {},
   "source": [
    "El método de Newton tienes dos desventajas: Primero, conocer la derivada de la función.\n",
    "Segundo, no siempre converge, si $f'(x)$ es muy pequeño, error puede ser muy grande, lo cual puede haacer que nos alejemos de la raíz en lugar de acercarnos."
   ]
  },
  {
   "attachments": {
    "Imagen%202.png": {
     "image/png": "[encoded data removed]"
    }
   },
   "cell_type": "markdown",
   "id": "c738c56c",
   "metadata": {},
   "source": [
    "![Imagen%202.png](attachment:Imagen%202.png)"
   ]
  },
  {
   "cell_type": "markdown",
   "id": "fb6c6f0a",
   "metadata": {},
   "source": [
    "## 3.6 Método de la Secante"
   ]
  },
  {
   "cell_type": "markdown",
   "id": "acd332ba",
   "metadata": {},
   "source": [
    "Si no tenemos una fórmula analítica de la derivada, no podríamos usar tan fácilmente el método de Newton. El método de la secante propone calcular la derivada numéricamente. Para ello, usaremos los puntos $x$ y $x'$. Comenzamos con los puntos $x_{1}$ y $x_{2}$. Entonces:\n",
    "\n",
    "$f'(x_{2}) \\simeq \\frac{f(x_{2}) - f(x_{1})}{x_{2}-x_{1}} \\$\n",
    "\n",
    "y como:\n",
    "\n",
    "$x' = x - \\frac{f(x)}{f'(x)}$\n",
    "\n",
    "Entonces:\n",
    "\n",
    "$x_{3} = x_{2} - f(x_{2})\\frac{x_{2} - x_{1}}{f(x_{2}) - f(x_{1})}$"
   ]
  },
  {
   "cell_type": "code",
   "execution_count": 5,
   "id": "c3c1c228",
   "metadata": {},
   "outputs": [],
   "source": [
    "prec2 = 1e-6"
   ]
  },
  {
   "cell_type": "code",
   "execution_count": 6,
   "id": "15131825",
   "metadata": {},
   "outputs": [],
   "source": [
    "def Secante(x1, x2, prec, f):\n",
    "    delta = 1.0\n",
    "    while abs(delta)>prec:\n",
    "        delta = (f(x2)*(x2-x1))/(f(x2)-f(x1))\n",
    "        x2 = x2 - delta\n",
    "    return x2"
   ]
  },
  {
   "cell_type": "markdown",
   "id": "fa8345f9",
   "metadata": {},
   "source": [
    "#### Pregunta 3"
   ]
  },
  {
   "cell_type": "markdown",
   "id": "806d4d1a",
   "metadata": {},
   "source": [
    "Hay un punto máguco entre la Tierra y la Luna, llamado el punto de Lagrange $L_{1}$, en el cual un satélite orbita la Tierra en perfecta sincronía con la Luna, manteniéndose siempre entre los dos. Esto funciona porque la atracción hacia dentro de la Tierra y la atracción hacia afuera de la Luna se combinan para crear exactamente la fuerza centrípeta necesaria que mantiene el satélite en su órbita."
   ]
  },
  {
   "cell_type": "markdown",
   "id": "7d42df6a",
   "metadata": {},
   "source": [
    "a) La distancia $r$ desde el centro de la Tierra al punto $L_{1}$ satisface:\n",
    "\n",
    "$\\frac{GM}{r^{2}} - \\frac{Gm}{(R-r)^{2}} = \\omega^{2}r$"
   ]
  },
  {
   "cell_type": "markdown",
   "id": "a3e5b521",
   "metadata": {},
   "source": [
    "b) La ecuación anterior es una polinomio de grado 5 en $r$. Escribir un programa para resolver la distancia $r$ de la Tierra al punto $L_{1}$."
   ]
  },
  {
   "cell_type": "code",
   "execution_count": 7,
   "id": "6a7e5031",
   "metadata": {},
   "outputs": [],
   "source": [
    "G = 6.674*(10**-11)\n",
    "#G = 1\n",
    "#M = 1\n",
    "M = 5.974*(10**24)\n",
    "#m = 1\n",
    "m = 7.348*(10**22)\n",
    "#R = 1\n",
    "R = 3.844*(10**8)\n",
    "#omega = 1\n",
    "omega = 2.662*(10**-6)"
   ]
  },
  {
   "cell_type": "code",
   "execution_count": 8,
   "id": "1852a13d",
   "metadata": {},
   "outputs": [],
   "source": [
    "def puntoLag(r):\n",
    "    return G*M/(omega**2*r**3) - G*m/(((R-r)**2)*omega**2*r) - 1"
   ]
  },
  {
   "cell_type": "code",
   "execution_count": 27,
   "id": "e08f29a3",
   "metadata": {
    "scrolled": false
   },
   "outputs": [],
   "source": [
    "prueba = linspace(1, R, 10)\n",
    "plot(prueba, puntoLag(prueba))\n",
    "#ylim(1e8, 3.5e8)\n",
    "show()\n",
    "#Consideramos 1.5*(10**8) y 2.0*(10**8)"
   ]
  },
  {
   "cell_type": "code",
   "execution_count": 10,
   "id": "7ab21907",
   "metadata": {},
   "outputs": [
    {
     "name": "stdout",
     "output_type": "stream",
     "text": [
      "La distancia L1 respecto de la Tierra es: 326045071.66535425 m\n"
     ]
    }
   ],
   "source": [
    "A = Secante(1.5e8, 2e8 , prec2, puntoLag)\n",
    "print('La distancia L1 respecto de la Tierra es:',A,'m')"
   ]
  },
  {
   "cell_type": "code",
   "execution_count": 11,
   "id": "09286ae9",
   "metadata": {},
   "outputs": [
    {
     "name": "stdout",
     "output_type": "stream",
     "text": [
      "4.085620730620576e-14\n"
     ]
    }
   ],
   "source": [
    "B = puntoLag(A)\n",
    "print(B)"
   ]
  },
  {
   "cell_type": "markdown",
   "id": "23ab130d",
   "metadata": {},
   "source": [
    "## 3.6 Método de Newton para dos o más variables"
   ]
  },
  {
   "cell_type": "markdown",
   "id": "b23dd1ad",
   "metadata": {},
   "source": [
    "$\\left( \\frac{V_{1} - V_{+}}{R_{1}}\\right) + \\frac{V_{1}}{R_{2}} + I_{0}\\left(e^{(V_{1} - V_{2}/V_{T})} - 1 \\right) = 0$\n",
    "\n",
    "$\\frac{V_{+} - V_{2}}{R_{3}} - \\frac{V_{2}}{R_{4}} + I_{0}\\left(e^{(V_{1} - V_{2})/V_{T}} - 1\\right) = 0$"
   ]
  },
  {
   "cell_type": "code",
   "execution_count": 39,
   "id": "d25f0bc4",
   "metadata": {},
   "outputs": [],
   "source": [
    "Vm = 5\n",
    "R1 = 1e3\n",
    "R2 = 4e3\n",
    "R3 = 3e3\n",
    "R4 = 2e3\n",
    "I0 = 3e-9\n",
    "VT = 5e-2\n",
    "prec3 = 1e-10"
   ]
  },
  {
   "cell_type": "code",
   "execution_count": 40,
   "id": "09475575",
   "metadata": {},
   "outputs": [],
   "source": [
    "def funciones(fs):\n",
    "    f1 = ((fs[0] - Vm)/R1) + (fs[0]/R2) + I0*(exp((fs[0] - fs[1])/VT) - 1)\n",
    "    f2 = ((Vm - fs[1])/R3) - (fs[1]/R4) + I0*(exp((fs[0] - fs[1])/VT) - 1)\n",
    "    return array([f1, f2])"
   ]
  },
  {
   "cell_type": "code",
   "execution_count": 41,
   "id": "3ad804de",
   "metadata": {},
   "outputs": [],
   "source": [
    "def j(f):\n",
    "    j00 = (1/R1) + (1/R2) +  I0/VT*exp((f[0] - f[1])/VT)\n",
    "    j01 = -I0/VT*exp((f[0] - f[1])/VT)\n",
    "    j10 = I0/VT*exp((f[0] - f[1])/VT)\n",
    "    j11 = (-1/R3) - (1/R4) - (I0/VT*exp((f[0] - f[1])/VT))\n",
    "    return array([[j00, j01],[j10, j11]])"
   ]
  },
  {
   "cell_type": "code",
   "execution_count": 51,
   "id": "616b02db",
   "metadata": {},
   "outputs": [
    {
     "name": "stdout",
     "output_type": "stream",
     "text": [
      "[3.44695462 2.82956807]\n"
     ]
    }
   ],
   "source": [
    "x1 = array([-4,200])\n",
    "delta = solve(j(x1), funciones(x1))\n",
    "while abs(delta[0])>prec3 or abs(delta[1]) >prec3:\n",
    "    delta = solve(j(x1), funciones(x1))\n",
    "    x1 = x1 - delta\n",
    "print(x1)"
   ]
  },
  {
   "cell_type": "code",
   "execution_count": null,
   "id": "d3ffa1a9",
   "metadata": {},
   "outputs": [],
   "source": []
  }
 ],
 "metadata": {
  "kernelspec": {
   "display_name": "Python 3 (ipykernel)",
   "language": "python",
   "name": "python3"
  },
  "language_info": {
   "codemirror_mode": {
    "name": "ipython",
    "version": 3
   },
   "file_extension": ".py",
   "mimetype": "text/x-python",
   "name": "python",
   "nbconvert_exporter": "python",
   "pygments_lexer": "ipython3",
   "version": "3.9.6"
  }
 },
 "nbformat": 4,
 "nbformat_minor": 5
}
