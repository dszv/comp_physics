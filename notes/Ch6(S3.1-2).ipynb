{
 "cells": [
  {
   "cell_type": "markdown",
   "id": "b7ff6315",
   "metadata": {},
   "source": [
    "# 6.3 Nonlinear equations"
   ]
  },
  {
   "cell_type": "markdown",
   "id": "ada9b249",
   "metadata": {},
   "source": [
    "We know many equations in physics are nonlinear. That are in general harder to solve. So, we will study some techniques for solving nonlinear equations."
   ]
  },
  {
   "cell_type": "markdown",
   "id": "bded7ee3",
   "metadata": {},
   "source": [
    "### 6.3.1 The relaxation method"
   ]
  },
  {
   "cell_type": "markdown",
   "id": "fe3d5b4a",
   "metadata": {},
   "source": [
    "We have the single variable nonlinear equation, such as\n",
    "\\begin{equation}x=2-e^{-x}\\end{equation}\n"
   ]
  },
  {
   "cell_type": "markdown",
   "id": "241bcaa7",
   "metadata": {},
   "source": [
    "We want to solve it, but there is no known analityc method for solving it. Then, we turn to computational methods.\n",
    "We just iterate the equation. We guess an initial value, for example $x=1$, and plug it in on the right-hand side of our equation, and we get\n",
    "\\begin{equation} x'=2-e^{-1}\\simeq 1.632.\\end{equation}\n",
    "\n"
   ]
  },
  {
   "cell_type": "markdown",
   "id": "d8b182cb",
   "metadata": {},
   "source": [
    "We get a new value $x'$ on the left-hand side. Then, we repeat the process, taking this value and feeding it in on the right again to get\n",
    "\\begin{equation} x''=2-e^{-1.632}\\simeq 1.804,\\end{equation}\n",
    "and so forth. Finally if we are lucky the value will converge to a fixed point of the equation.\\\n",
    "The program to perform the calculation is:"
   ]
  },
  {
   "cell_type": "code",
   "execution_count": 2,
   "id": "611f1def",
   "metadata": {},
   "outputs": [
    {
     "name": "stdout",
     "output_type": "stream",
     "text": [
      "1.6321205588285577\n",
      "1.8044854658474119\n",
      "1.8354408939220457\n",
      "1.8404568553435368\n",
      "1.841255113911434\n",
      "1.8413817828128696\n",
      "1.8414018735357267\n",
      "1.8414050598547234\n",
      "1.8414055651879888\n",
      "1.8414056453310121\n"
     ]
    }
   ],
   "source": [
    "import math\n",
    "x=1.0\n",
    "for i in range (10):\n",
    "    x=2-math.exp(-x)\n",
    "    print(x)\n"
   ]
  },
  {
   "cell_type": "code",
   "execution_count": 6,
   "id": "84f4d90b",
   "metadata": {},
   "outputs": [
    {
     "name": "stdout",
     "output_type": "stream",
     "text": [
      "1.8414056604369606\n"
     ]
    }
   ],
   "source": [
    "for i in range (100):\n",
    "    x=2-math.exp(-x)\n",
    "print(x)"
   ]
  },
  {
   "cell_type": "code",
   "execution_count": 7,
   "id": "8bfb2ca5",
   "metadata": {},
   "outputs": [],
   "source": [
    "x=2-math.exp(-x)"
   ]
  },
  {
   "cell_type": "code",
   "execution_count": 8,
   "id": "0953f15e",
   "metadata": {},
   "outputs": [
    {
     "name": "stdout",
     "output_type": "stream",
     "text": [
      "1.8414056604369606\n"
     ]
    }
   ],
   "source": [
    "print(x)"
   ]
  },
  {
   "cell_type": "markdown",
   "id": "127becaf",
   "metadata": {},
   "source": [
    "Then, this is necessarily a solution to the original equation.\\\n",
    "This method is called the $\\textit{relaxation method}$."
   ]
  },
  {
   "cell_type": "markdown",
   "id": "e7d0ff2d",
   "metadata": {},
   "source": [
    "The method does have its problems. First, the equation needs to be in the simple form $x=f(x)$, with $f(x)$ a known fuction.\n",
    "However, it can be rearranged in that form. If you have the equation $logx + x^2 -1$, for instance, you can take the exponetial of both sides and rearrange to get $x=e^{1-x^2}$."
   ]
  },
  {
   "cell_type": "markdown",
   "id": "8c8b7f90",
   "metadata": {},
   "source": [
    "Second, an equation may have more than one solution. But, we can find it by choosing a starting value near to the solution.\n",
    "There are, however, some solutions that you cannot find it no matters what satarting value you choose."
   ]
  },
  {
   "cell_type": "markdown",
   "id": "269472e2",
   "metadata": {},
   "source": [
    "For example, the equation $x=e^{1-x^2}$, with solution $x=1$. But if we try to find the solution by the relaxation method, with the starting value $x=1/2$ we get"
   ]
  },
  {
   "cell_type": "code",
   "execution_count": 3,
   "id": "957ea618",
   "metadata": {},
   "outputs": [
    {
     "name": "stdout",
     "output_type": "stream",
     "text": [
      "2.117000016612675\n",
      "0.030755419069985038\n",
      "2.715711832754083\n",
      "0.0017034651847384463\n",
      "2.71827394057758\n",
      "0.001679913095081425\n",
      "2.7182741571849562\n",
      "0.0016799111168229455\n",
      "2.7182741572030236\n",
      "0.0016799111166579386\n"
     ]
    }
   ],
   "source": [
    "x=0.5\n",
    "for i in range (10):\n",
    "    x=math.exp(1-x**2)\n",
    "    print(x)"
   ]
  },
  {
   "cell_type": "markdown",
   "id": "4676607d",
   "metadata": {},
   "source": [
    "We never get the solution in this case, no matter how long we wait."
   ]
  },
  {
   "cell_type": "markdown",
   "id": "7538b148",
   "metadata": {},
   "source": [
    "An useful trick is to try another way to arranging the equation\n",
    "    \\begin{equation} x=\\sqrt{1-\\log{x}}\\end{equation}"
   ]
  },
  {
   "cell_type": "markdown",
   "id": "ee19e714",
   "metadata": {},
   "source": [
    "And, if we now apply the relaxation method, with the starting value $x=1/2$"
   ]
  },
  {
   "cell_type": "code",
   "execution_count": 4,
   "id": "0990d370",
   "metadata": {},
   "outputs": [
    {
     "name": "stdout",
     "output_type": "stream",
     "text": [
      "1.3012098910475378\n",
      "0.8583154914892762\n",
      "1.0736775779454883\n",
      "0.9637999044091371\n",
      "1.0182689104343374\n",
      "0.990906635925747\n",
      "1.004557096969838\n",
      "0.997724037576543\n",
      "1.0011386299421705\n",
      "0.9994308469350205\n"
     ]
    }
   ],
   "source": [
    "x=0.5\n",
    "for i in range (10):\n",
    "    x=math.pow(1-math.log(x),0.5)\n",
    "    print(x)"
   ]
  },
  {
   "cell_type": "code",
   "execution_count": 7,
   "id": "11078f85",
   "metadata": {},
   "outputs": [
    {
     "name": "stdout",
     "output_type": "stream",
     "text": [
      "1.0\n"
     ]
    }
   ],
   "source": [
    "for i in range (100):\n",
    "    x=math.pow(1-math.log(x),0.5)\n",
    "print(x)"
   ]
  },
  {
   "cell_type": "markdown",
   "id": "cf3b6bbf",
   "metadata": {},
   "source": [
    "Assume we have  an equation of the form $x=f(x)$ that has a solution $x=x^*$ and we can perform an Taylor expansion, the value $x'$ after an iteration of the method is given  in terms  of the previous  value x by\n",
    "\\begin{equation} x'=f(x)=f(x^*)+(x-x^*)f'(x^*)+...\\end{equation} \n",
    "But, $x^*$ is a solution, $\\textit{i.e.}$  $x^*=f(x^*)$. Then,\n",
    "\\begin{equation} x'-x^*=(x-x^*)f'(x^*),\\end{equation}\n"
   ]
  },
  {
   "cell_type": "markdown",
   "id": "96b145d2",
   "metadata": {},
   "source": [
    "This means that the distance $x'-x$ to the true solution gets multiplied on each iteration by a factor of $f'(x^*)$.\n",
    "Thus the relaxation  method  will converge to a solution at $x^*$ if and only if $|f'(x^*)|<1$. \n",
    "This explain why the method failed for $f(x)=e^{1-x^2}$, since $|f'(x^*)|_{x^*=1}=2$"
   ]
  },
  {
   "cell_type": "markdown",
   "id": "456efae7",
   "metadata": {},
   "source": [
    "If we find ourselves in a situation where $|f'(x^*)|>1$, $i.e.$ the relaxation method fails to converge for $x=f(x)$ it will\n",
    "succeed for the equivalent form $x=f^{-1}(x)$"
   ]
  },
  {
   "cell_type": "markdown",
   "id": "fd2d2b1c",
   "metadata": {},
   "source": [
    "#### In summary, the relaxation method does not always work, but between the cases where it works first time, the ones where it can be made to work by inverting, and the ones where some other rearrangement turns out  by good luck to work, the method is useful for a wide range of problems."
   ]
  },
  {
   "cell_type": "markdown",
   "id": "327534fd",
   "metadata": {},
   "source": [
    "### 6.3.2 Rate of convergence of the relaxation method"
   ]
  },
  {
   "cell_type": "markdown",
   "id": "56ce2710",
   "metadata": {},
   "source": [
    "When the method converges, the distance to the solution gets smaller by a factor of $|f'(x)|$ on each iteration.\n",
    "The distance decrease exponentially.\n",
    "Let us define $\\epsilon$ to be the error. That is $x^*=x+\\epsilon$. Similarly let $\\epsilon'$ be the error on the next estimate, so that $x^*=x'+\\epsilon'$. Then,\n",
    "\\begin{equation} \\epsilon'=\\epsilon f'(x^*).\\end{equation}\n",
    "\\begin{equation} x^*=x+\\epsilon=x+\\dfrac{\\epsilon'}{f'(x^*)}\\end{equation}\n",
    "And rearranging for $\\epsilon'$ using $x^*=x'+\\epsilon'$\n",
    "\\begin{equation} \\epsilon'=\\dfrac{x-x'}{1-1/f'(x)}\\end{equation}"
   ]
  },
  {
   "cell_type": "markdown",
   "id": "40c9a5ac",
   "metadata": {},
   "source": [
    "When we do not know the full formula for $f(x)$. We can calculate the error  on the most recent estimate by\n",
    "\\begin{equation} \\epsilon''=\\dfrac{x'-x''}{1-1/f'(x)},\\end{equation}\n",
    "using the numerical derivative."
   ]
  },
  {
   "cell_type": "markdown",
   "id": "aef7a5ab",
   "metadata": {},
   "source": [
    "\\begin{equation} \\epsilon''=\\dfrac{(x'-x'')^2}{2x'-x-x''},\\end{equation}"
   ]
  },
  {
   "cell_type": "code",
   "execution_count": 1,
   "id": "b722a52e",
   "metadata": {},
   "outputs": [
    {
     "ename": "AttributeError",
     "evalue": "module 'matplotlib.pyplot' has no attribute 'savefigure'",
     "output_type": "error",
     "traceback": [
      "\u001b[1;31m---------------------------------------------------------------------------\u001b[0m",
      "\u001b[1;31mAttributeError\u001b[0m                            Traceback (most recent call last)",
      "\u001b[1;32m<ipython-input-1-6f0aa50a42a6>\u001b[0m in \u001b[0;36m<module>\u001b[1;34m\u001b[0m\n\u001b[0;32m     21\u001b[0m \u001b[0mplt\u001b[0m\u001b[1;33m.\u001b[0m\u001b[0mxlabel\u001b[0m\u001b[1;33m(\u001b[0m\u001b[1;34m\"T\"\u001b[0m\u001b[1;33m)\u001b[0m\u001b[1;33m\u001b[0m\u001b[1;33m\u001b[0m\u001b[0m\n\u001b[0;32m     22\u001b[0m \u001b[0mplt\u001b[0m\u001b[1;33m.\u001b[0m\u001b[0mylabel\u001b[0m\u001b[1;33m(\u001b[0m\u001b[1;34m\"Magnetización\"\u001b[0m\u001b[1;33m)\u001b[0m\u001b[1;33m\u001b[0m\u001b[1;33m\u001b[0m\u001b[0m\n\u001b[1;32m---> 23\u001b[1;33m \u001b[0mplt\u001b[0m\u001b[1;33m.\u001b[0m\u001b[0msavefigure\u001b[0m\u001b[1;33m(\u001b[0m\u001b[1;34m\"Mag.jpg\"\u001b[0m\u001b[1;33m,\u001b[0m\u001b[0mdpi\u001b[0m\u001b[1;33m=\u001b[0m\u001b[1;36m300\u001b[0m\u001b[1;33m)\u001b[0m\u001b[1;33m\u001b[0m\u001b[1;33m\u001b[0m\u001b[0m\n\u001b[0m\u001b[0;32m     24\u001b[0m \u001b[0mplt\u001b[0m\u001b[1;33m.\u001b[0m\u001b[0mshow\u001b[0m\u001b[1;33m(\u001b[0m\u001b[1;33m)\u001b[0m\u001b[1;33m\u001b[0m\u001b[1;33m\u001b[0m\u001b[0m\n",
      "\u001b[1;31mAttributeError\u001b[0m: module 'matplotlib.pyplot' has no attribute 'savefigure'"
     ]
    },
    {
     "data": {
      "image/png": "[encoded data removed]",
      "text/plain": [
       "<Figure size 432x288 with 1 Axes>"
      ]
     },
     "metadata": {
      "needs_background": "light"
     },
     "output_type": "display_data"
    }
   ],
   "source": [
    "import numpy as np\n",
    "import matplotlib.pyplot as plt\n",
    "\n",
    "Tmax=2.0\n",
    "acc=1e-6\n",
    "\n",
    "y=[]\n",
    "T=np.linspace(0.01,Tmax,1000)\n",
    "\n",
    "for t in T:\n",
    "    m1=1.0\n",
    "    err=1.0\n",
    "    \n",
    "    while err>acc:\n",
    "        m1,m2=np.tanh(m1/t),m1\n",
    "        err=abs((m1-m2)/(1-t*np.cosh(m2/t)**2))\n",
    "    \n",
    "    y.append(m1)\n",
    "\n",
    "plt.plot(T,y)\n",
    "plt.xlabel(\"T\")\n",
    "plt.ylabel(\"Magnetización\")\n",
    "plt.savefigure(\"Mag.jpg\",dpi=300)\n",
    "plt.show()"
   ]
  },
  {
   "cell_type": "code",
   "execution_count": null,
   "id": "cb7fa429",
   "metadata": {},
   "outputs": [],
   "source": []
  }
 ],
 "metadata": {
  "kernelspec": {
   "display_name": "Python 3",
   "language": "python",
   "name": "python3"
  },
  "language_info": {
   "codemirror_mode": {
    "name": "ipython",
    "version": 3
   },
   "file_extension": ".py",
   "mimetype": "text/x-python",
   "name": "python",
   "nbconvert_exporter": "python",
   "pygments_lexer": "ipython3",
   "version": "3.8.8"
  },
  "vp": {
   "base_numbering": 1,
   "nav_menu": {},
   "number_sections": true,
   "sideBar": true,
   "title_cell": "VisualPython",
   "title_sidebar": "VisualPython",
   "vpPosition": {
    "height": "calc(100% - 180px)",
    "right": "10px",
    "top": "110px",
    "width": "50%"
   },
   "vp_cell": false,
   "vp_section_display": true,
   "vp_window_display": false
  }
 },
 "nbformat": 4,
 "nbformat_minor": 5
}
