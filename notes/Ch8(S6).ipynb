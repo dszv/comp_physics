{
 "cells": [
  {
   "cell_type": "markdown",
   "id": "5d2bd865-2a96-4cd0-8998-435ea11c176b",
   "metadata": {},
   "source": [
    "# Problemas de contorno"
   ]
  },
  {
   "cell_type": "markdown",
   "id": "79e3a3bf-d07e-46d5-befb-c0b22667658c",
   "metadata": {},
   "source": [
    "Los problemas antes resueltos consistían en problemas de valor inicial, el cual es el tipo más frecuente de problemas de EDOs encontrados en física pero no el único pues podemos encontrar también **problemas de contorno o boundary value problems**. \n",
    "\n",
    "Por ejemplo, la EDO que gobierna el movimiento de una pelota lanzada al aire en función de su altura $x$, es: $$\\dfrac{d^2 x}{dt^2} = -g$$\n",
    "\n",
    "Así como podemos especificar su posición y velocidad inicial, también podríamos indicar que tenía una altura $x=0$ en $t=0$ y que $x=0$ en $t=t_1$: es decir, especificamos el tiempo en que se lanzó al aire y el tiempo en que cayó y buscaremos la solución que satisface estas condiciones."
   ]
  },
  {
   "cell_type": "markdown",
   "id": "40ddd399-75ed-42a6-8a74-f0485217d74f",
   "metadata": {},
   "source": [
    "## The shooting method"
   ]
  },
  {
   "cell_type": "markdown",
   "id": "d1322241-b939-4765-93f9-77516cb22d05",
   "metadata": {},
   "source": [
    "Es un método de intento-error que busca los correctos valores de las condiciones iniciales que encajen con un cierto conjunto de condiciones de contorno. \n",
    "\n",
    "Por ejemplo, en el problema del lanzamiento de una pelota, tenemos la posición inicial de la pelota pero no su velocidad. Entonces, empezamos a estimar un valor para esta velocidad y resolvemos la EDO y calculamos su posición para un tiempo $t=t_1$. Si en este instante no alcanza $x=0$ entonces volvemos a estimar un nuevo valor y calculamos de nuevo.\n",
    "\n",
    "<img src=\"Capt-Ch86.png\" width=\"500px\">\n",
    "\n",
    "**¿Cómo encontramos esta velocidad?** Si suponemos que la posición de la pelota en un tiempo $t_1$ está dada por $x = f(v)$ para una cierta velocidad inicial, entonces para solucionar el problema, bastará con resolver $f(v) = 0$ y se determinará $v$. \n",
    "\n",
    "Entonces, usamos un método para resolver la EDO (ej: RK4) para calcular el valor de la función $f(v)$ y luego empleamos un método para buscar raíces (ej: brentq en scipy) para determinar $v$ que encaje con las condiciones de contorno."
   ]
  },
  {
   "cell_type": "markdown",
   "id": "737744ba-3d3b-49af-ad9f-2df0fa569f4b",
   "metadata": {},
   "source": [
    "### Posición vertical de una pelota lanzada"
   ]
  },
  {
   "cell_type": "markdown",
   "id": "aee7f420-1acf-4ae6-83c5-8b4ba2018f11",
   "metadata": {},
   "source": [
    "Para el problema antes descrito, supongamos que $x=0$ en $t=0$ y $x=0$ en $t=10$. El primer paso es convertir la EDO de segundo orden en dos de primer orden:\n",
    "\n",
    "$$\\dfrac{dx}{dt} = y, \\quad \\dfrac{dy}{dt} = -g$$"
   ]
  },
  {
   "cell_type": "code",
   "execution_count": 1,
   "id": "b38aafb8-097e-442d-8b0e-fd921fcfa32b",
   "metadata": {},
   "outputs": [],
   "source": [
    "import math\n",
    "import numpy as np\n",
    "import matplotlib.pyplot as plt\n",
    "from scipy.optimize import brentq"
   ]
  },
  {
   "cell_type": "code",
   "execution_count": 2,
   "id": "f1bb6657-8fe1-4ff6-a131-59197dc4ca15",
   "metadata": {},
   "outputs": [],
   "source": [
    "g = 9.81       # Aceleración de la gravedad\n",
    "a = 0.0        # Tiempo inicial   \n",
    "b = 10.0       # Tiempo final  \n",
    "N = 1000       # Número de pasos de RK4    \n",
    "h = (b-a)/N    # Tamaño de paso de RK4\n",
    "target = 1e-10 # Precisión para brentq"
   ]
  },
  {
   "cell_type": "code",
   "execution_count": 3,
   "id": "0e584ecb-35d0-4923-acd1-a91eb41cea60",
   "metadata": {},
   "outputs": [
    {
     "name": "stdout",
     "output_type": "stream",
     "text": [
      "La velocidad inicial requerida es  49.05 m/s\n"
     ]
    }
   ],
   "source": [
    "# Parte derecha de la EDO\n",
    "def f(r):\n",
    "    x, y = r\n",
    "    fx, fy = y, -g\n",
    "    return np.array([fx, fy], float)\n",
    "\n",
    "# Resolución del sistema de EDOs\n",
    "# Retorna la altura final\n",
    "def height(v): \n",
    "    r = np.array([0.0, v], float)\n",
    "    for t in np.arange(a, b, h):\n",
    "        k1 = h*f(r)\n",
    "        k2 = h*f(r + 0.5*k1)\n",
    "        k3 = h*f(r + 0.5*k2)\n",
    "        k4 = h*f(r + k3)\n",
    "        r += (k1 + 2*k2 + 2*k3 + k4)/6\n",
    "    return r[0]\n",
    "\n",
    "v = brentq(height, 1, 100, xtol=target)\n",
    "print('La velocidad inicial requerida es {0: .2f} m/s'.format(v))"
   ]
  },
  {
   "cell_type": "markdown",
   "id": "53dd78bb-b411-4202-bef3-c16145c5e0d4",
   "metadata": {},
   "source": [
    "## The relaxation method"
   ]
  },
  {
   "cell_type": "markdown",
   "id": "d15e2da6-4b90-473f-82e8-57c7392cf1a1",
   "metadata": {},
   "source": [
    "Definimos una forma para la solución completa que encaje con las condiciones de contorno (que puede no ser la correcta en la región entre los extremos. Luego, se modifica sucesivamente esta función para llevarla lo más cerca posible a la solución de la EDO, asegurándonos que satisface la ecuación de movimiento. Este es más usado para EDPs."
   ]
  },
  {
   "cell_type": "markdown",
   "id": "82214363-e00c-4210-bf24-06747f69fa28",
   "metadata": {},
   "source": [
    "# Problemas de autovalores"
   ]
  },
  {
   "cell_type": "markdown",
   "id": "35b04bb3-e7c6-429c-8994-0d37207bc85e",
   "metadata": {},
   "source": [
    "Problemas de contorno para ecuaciones lineales homogéneas. Por ejemplo, la ecuación de Schrodinger independiente del tiempo para una partícula de masa $m$ en 1-D\n",
    "$$-\\dfrac{\\hbar^2}{2m} \\dfrac{d^2 \\psi}{dx^2} + V(x) \\psi(x) = E \\psi(x),$$\n",
    "donde $\\psi(x)$ es la función de onda, $V(x)$ es el potencial y $E$ es la energía total de la partícula.\n",
    "\n",
    "En específico, para una partícula en un potencial de paredes infinitas\n",
    "$$V(x) = \\begin{cases} 0, & \\text{para} \\ 0 < x < L \\\\\n",
    "\\infty, & \\text{otros casos} \\end{cases}$$\n",
    "\n",
    "Luego\n",
    "$$\\dfrac{d\\psi}{dx} = \\phi$$\n",
    "\n",
    "$$\\dfrac{d\\phi}{dx} = \\dfrac{2m}{\\hbar^2} [V(x) - E] \\psi$$\n",
    "\n",
    "Empleando el shooting method, sabemos que la condición inicial para $\\psi$ es $\\psi(x=0) = 0$, y para $\\phi$ tendríamos que estimar un valor inicial tal que $\\psi(x=L) = 0$. Sin embargo, esto no funcionará. \n",
    "\n",
    "La modificación del valor inicial de $\\phi$ afecta la magnitud general de la solución y no su forma. Si duplicamos el valor inicial de $d\\psi/dx$ obtendremos $2\\psi(x)$ como solución de la ecuación, es decir, no podremos alcanzar cero en $x=L$ como se ve en el dibujo si $\\psi(x)$ no pasa por cero en $x=L$.\n",
    "\n",
    "<img src=\"Capt-Ch863.png\" width=\"500px\">\n",
    "\n",
    "En este caso, se tienen soluciones de la ecuación relacionadas a ciertos valores del parámetro de energía E (autovalores). Estos valores son discretos y constituye una mejor opción variar esta parámetro en vez del valor inicial de $d\\psi/dx$.\n",
    "\n",
    "Entonces, podemos pensar la solución de la ecuación de Schrodinger como $f(E)$ igual al valor de la autofunción en $x=L$ y buscar el valor de $E$ que anula esta función. En este sentido, el valor de $d\\psi/dx$ es irrelevante."
   ]
  },
  {
   "cell_type": "markdown",
   "id": "dc8310ee-63e8-47bb-bcf2-d62c5d2c6984",
   "metadata": {},
   "source": [
    "### Ground state energy in a square well"
   ]
  },
  {
   "cell_type": "code",
   "execution_count": 22,
   "id": "598b019d-126e-4bbc-b391-dc2f871c2ad9",
   "metadata": {},
   "outputs": [
    {
     "name": "stdout",
     "output_type": "stream",
     "text": [
      "La energía del estado fundamental es  134.29 eV\n"
     ]
    }
   ],
   "source": [
    "# Constantes\n",
    "m = 9.1094e-31 # Masa del electrón\n",
    "ħ = 1.0546e-34 # hbar\n",
    "e = 1.6022e-19 # Carga del electrón\n",
    "L = 5.2918e-11 # Radio de Bohr\n",
    "N = 1000\n",
    "h = L/N\n",
    "\n",
    "# Potencial: puede modificarse\n",
    "def V(x):\n",
    "    return 0.0\n",
    "\n",
    "def f(r, x, E):\n",
    "    psi, phi = r\n",
    "    fpsi = phi\n",
    "    fphi = (2*m/ħ**2)*(V(x) - E)*psi\n",
    "    return np.array([fpsi, fphi], float)\n",
    "\n",
    "# Cálculo de la función de onda para una energía E\n",
    "def solve(E):\n",
    "    psi = 0.0\n",
    "    phi = 1.0\n",
    "    r = np.array([psi, phi], float)\n",
    "    \n",
    "    for x in np.arange(0, L, h):\n",
    "        k1 = h*f(r, x, E)\n",
    "        k2 = h*f(r + 0.5*k1, x + 0.5*h, E)\n",
    "        k3 = h*f(r + 0.5*k2, x + 0.5*h, E) \n",
    "        k4 = h*f(r + k3, x + h, E)\n",
    "        r += (k1 + 2*k2 + 2*k3 + k4)/6\n",
    "        \n",
    "    return r[0]\n",
    "\n",
    "# Encontrar la energía\n",
    "E = brentq(solve, 1*e, 149*e, xtol=e/1000)\n",
    "print('La energía del estado fundamental es {0: .2f} eV'.format(E/e))"
   ]
  }
 ],
 "metadata": {
  "kernelspec": {
   "display_name": "Python 3",
   "language": "python",
   "name": "python3"
  },
  "language_info": {
   "codemirror_mode": {
    "name": "ipython",
    "version": 3
   },
   "file_extension": ".py",
   "mimetype": "text/x-python",
   "name": "python",
   "nbconvert_exporter": "python",
   "pygments_lexer": "ipython3",
   "version": "3.8.8"
  }
 },
 "nbformat": 4,
 "nbformat_minor": 5
}
