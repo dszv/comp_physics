{
 "cells": [
  {
   "cell_type": "markdown",
   "metadata": {},
   "source": [
    "# Ecuación de Onda"
   ]
  },
  {
   "cell_type": "markdown",
   "metadata": {},
   "source": [
    "$$ \\dfrac{\\partial^2\\phi}{\\partial t^2} = v^2 \\dfrac{\\partial^2\\phi}{\\partial x^2}$$"
   ]
  },
  {
   "cell_type": "markdown",
   "metadata": {},
   "source": [
    "Aproximando las derivadas se llega las siguientes ecuaciones\n",
    "\\begin{align}\n",
    "\\dfrac{d\\phi}{dt} &= \\psi_{(x,t)} \\\\\n",
    "\\dfrac{d\\psi}{dt} &= \\dfrac{v^2}{a^2}\\left[\\phi_{(x+a,t)} + \\phi_{(x-a,t)} - 2\\phi_{(x,t)} \\right]\n",
    "\\end{align}"
   ]
  },
  {
   "cell_type": "markdown",
   "metadata": {},
   "source": [
    "# Metodo explicito ( FTCS equations ) "
   ]
  },
  {
   "cell_type": "markdown",
   "metadata": {},
   "source": [
    "\\begin{align}\n",
    "\\phi_{(x,t+h)} &= \\phi_{(x,t)} + h\\psi_{(x,t)} \\\\\n",
    "\\psi_{(x,t+h)} &= \\psi_{(x,t)} + h \\dfrac{v^2}{a^2}\\left[\\phi_{(x+a,t)} + \\phi_{(x-a,t)} - 2\\phi_{(x,t)}  \\right]\n",
    "\\end{align}\n",
    "Este metodo es numericamente inestable. Para remediar el problema de estabilidad se usa los \"Metodos implicitos\". "
   ]
  },
  {
   "cell_type": "markdown",
   "metadata": {},
   "source": [
    "# Metodo Implicito "
   ]
  },
  {
   "cell_type": "markdown",
   "metadata": {},
   "source": [
    "\\begin{align}\n",
    "\\phi_{(x,t+h)} - h\\psi_{(x,t+h)} &= \\phi_{(x,t)}\\\\\n",
    "\\psi_{(x,t+h)} - h\\dfrac{v^2}{a^2}\\left[\\phi_{(x+a,t+h)} + \\phi_{(x-a,t+h)}- 2\\phi_{(x,t+h)} \\right] &= \\psi_{(x,t)}\n",
    "\\end{align}\n",
    "\n",
    "Este metodo es numericamente estable ( si se hace el analisis de estabilidad de Neumann). Segun el autor es incondicionalmente estable. \n",
    "- Sin embargo la estabilidad no es suficiente. Debido a que el analisis de neumann nos dice que el sistema decaera a una situación constante lo cual no es cierto para los problemas que describen la ecuación de Onda. Luego el Metodo implicito nos da soluciones estables pero que son NO fisicas. \n",
    "\n",
    "Entonces se necesita un metodo que este entre FTCS y el metodo implicito donde las soluciones ni decaen o crecen. Tal metodo es el metodo de Crank-Nicolson. "
   ]
  },
  {
   "cell_type": "markdown",
   "metadata": {},
   "source": [
    "# Metodo de Crank-Nicolson"
   ]
  },
  {
   "cell_type": "markdown",
   "metadata": {},
   "source": [
    "\\begin{align}\n",
    "\\phi_{(x,t+h)} - \\dfrac{1}{2}h\\psi_{(x,t+h)} &= \\phi_{(x,t)} + \\dfrac{1}{2}h\\psi_{(x,t)} \\\\\n",
    "\\psi_{(x,t+h)} - h\\dfrac{v^2}{2a^2}\\left[ \\phi_{(x+a,t+h)} + \\phi_{(x-a,t+h)} - 2\\phi_{(x,t+h)} \\right] &= \\psi_{(x,t)} + h\\dfrac{v^2}{2a^2}\\left[ \\phi_{(x+a,t)} + \\phi_{(x-a,t)} - 2\\phi_{(x,t)} \\right]\n",
    "\\end{align}\n",
    "\n",
    "Estas ecuaciones son indirectas o mejor dicho implicitas. Debemos resolver un conjunto de ecuaciones simultaneas para dar los valores que queremos. "
   ]
  },
  {
   "cell_type": "markdown",
   "metadata": {},
   "source": [
    "<img src=\"img/933.jpg\">"
   ]
  },
  {
   "cell_type": "markdown",
   "metadata": {},
   "source": [
    "# Problema 9.8\n",
    "# La ecuación de Schrodinger y el metodo de Crank-Nicolson method"
   ]
  },
  {
   "cell_type": "markdown",
   "metadata": {},
   "source": [
    "$$ -\\dfrac{h^2}{2M}\\dfrac{\\partial^2\\psi}{\\partial x^2} = i\\hbar \\dfrac{\\partial \\psi}{\\partial t}$$\n",
    "\n",
    "$$ \\psi_{(x,t+h)} - h\\dfrac{i \\hbar}{4ma^2} \\left[ \\psi_{(x+a,t+h)} + \\psi_{(x-a,t+h)} - 2 \\psi_{(x,t+h)}  \\right] = \\psi_{(x,t)} + h\\dfrac{i \\hbar}{4ma^2} \\left[ \\psi_{(x+a,t)} + \\psi_{(x-a,t)} - 2 \\psi_{(x,t)} \\right]$$ "
   ]
  },
  {
   "cell_type": "code",
   "execution_count": 1,
   "metadata": {},
   "outputs": [],
   "source": [
    "import numpy as np\n",
    "import matplotlib.pyplot as plt\n",
    "from scipy.linalg import solve_banded\n",
    "\n",
    "hbar = 6.582 * 10**(-16) # ev.s\n",
    "ima = 1j\n",
    "m = 0.510998928 *10**(6) * (1/(3*10**8))**2  # Mev/c^2\n",
    "\n",
    "def crank_nicolson_schrodinguer(k=0,h=0,x1=0,gx1=0,x2=1,gx2=0,t0=0,gt0=0,tfinal=100):\n",
    "    '''\n",
    "    Esta funcion resuelve el problema de una dimension de Scrodinguer de la forma (-hbar^2)/(2*M) diff2x_u = i*hbar*difft_u\n",
    "    Para eso te pide los siguientes argumentos \n",
    "    - k = cantidad paso temporal \n",
    "    - h = cantidad de paso espacial\n",
    "    - x1 = extremo izquierdo espacial\n",
    "    - gx1 = condicion de extremo izquierdo u(x=x1,t) = gx1\n",
    "    - x2 = extremo derecho espacial\n",
    "    - gx2 = condicion de extremo derecho  u(x=x2,t) = gx2\n",
    "    - t0 = tiempo inicial de la simulacion\n",
    "    - gt0 = es la condicion inicial , es decir u(x,t=t0) = gt0\n",
    "    . tfinal = hasta que tiempo final se esta haciendo la simulacion \n",
    "    \n",
    "    //// es bueno aclarar que h , k ,x1 ,x2 ,t0, tfinal deben ser coherente , es decir para que no ocurra cosas raras\n",
    "    //// en hacer los pasos temporales y pasos espaciales \n",
    "    \n",
    "    Esta funcion retorna un array donde cada columna representa el estado u(x,t=tiempo) en un tiempo especifico\n",
    "    Es decir las filas son como a \"x\" como columna es a \"tiempo\"\n",
    "    \n",
    "    '''\n",
    "    \n",
    "    ############ Valores para calcular ###################\n",
    "    a_1 = 1 + k*(ima*hbar)/(2*m*h**2) \n",
    "    a_2 = - k*(ima*hbar)/(4*m*h**2)\n",
    "    b_1 = 1- k*(ima*hbar)/(2*m*h**2)\n",
    "    b_2 = k*(ima*hbar)/(4*m*h**2)\n",
    "    \n",
    "    # calculamos cuantas iteraciones vamos a hacer para llegar al tiempo final\n",
    "    pasos_temporal = int((tfinal-t0)/k)\n",
    "    # calculamos el segemnto entre x1 y x2 en cuanto sera dividio\n",
    "    pasos_espacial = int((x2-x1)/h)\n",
    "    \n",
    "    ########## creamos la matriz donde haremos todos los calculos \n",
    "    # el +1 hace la cuenta de la condicion inicial (OJO)\n",
    "    u = np.zeros( shape=(pasos_espacial+1,pasos_temporal+1) , dtype = np.cdouble  ) \n",
    "    \n",
    "    ####### LLenamos las condiciones de contorno\n",
    "    u[0,0] = gx1(t0)\n",
    "    # llenamos la condicion inicial temporal y espacial\n",
    "    for i in range(1,pasos_espacial):\n",
    "        x = x1 + i*h\n",
    "        u[i,0] = gt0(x)\n",
    "    for j in range(0,pasos_temporal+1):\n",
    "        t = t0 + j*k\n",
    "        u[0,j] = gx1(t)\n",
    "        u[pasos_espacial,j] = gx2(t)\n",
    "    \n",
    "    ###### Comenzamos a hacer los pasos hacia adelante\n",
    "    \n",
    "    #### Creamos las matrices del problema\n",
    "    d = [a_1]*(pasos_espacial-1) # el -1 se debe a que no se considera el extremo de paso espacial superior final\n",
    "    d_u = [a_2]*(pasos_espacial-2) # el -2 por no ser la diagonal superior\n",
    "    d_d = [a_2]*(pasos_espacial-2) # el -2 por no ser la diagonal inferior\n",
    "    A = np.diag(d) + np.diag(d_u, 1) + np.diag(d_d, -1)\n",
    "    \n",
    "    d = [b_1]*(pasos_espacial-1) # el -1 se debe a que no se considera el extremo de paso espacial superior final\n",
    "    d_u = [b_2]*(pasos_espacial-2)\n",
    "    d_d = [b_2]*(pasos_espacial-2) \n",
    "    B = np.diag(d) + np.diag(d_u, 1) + np.diag(d_d, -1)\n",
    "    \n",
    "    for j in range(0,pasos_temporal):\n",
    "        t = t0 + j*k\n",
    "        for i in range(1,pasos_espacial):\n",
    "            x = x1 + i*h\n",
    "            \n",
    "            ### resolvemos el problema matricial\n",
    "            \n",
    "            up = 1\n",
    "            low = 1\n",
    "            num = len(A)\n",
    "            ab = np.zeros((low + up + 1, num),dtype = np.cdouble)\n",
    "\n",
    "            for i1 in range(0,num):\n",
    "                for j2 in range(0,num):\n",
    "                    if (up+i1-j2 >= 0 and up+i1-j2 < low + up + 1):\n",
    "                        ab[up + i1 - j2, j2] = A[i1,j2]\n",
    "                        \n",
    "            N = np.array( B.dot(u[1:pasos_espacial,j]), dtype = np.cdouble )\n",
    "            # de la funcion scipy\n",
    "            result = solve_banded((1, 1), ab, N) # resuelve el sistema \n",
    "            \n",
    "            for l in range(1,pasos_espacial):\n",
    "                u[l,j+1] = result[l-1]  # el -1 es debido a que result es un array de menor tamaño que la columna de j+1 de \"u\" \n",
    "             \n",
    "    return u"
   ]
  },
  {
   "cell_type": "code",
   "execution_count": 2,
   "metadata": {
    "scrolled": true
   },
   "outputs": [
    {
     "data": {
      "text/plain": [
       "(101, 801)"
      ]
     },
     "metadata": {},
     "output_type": "display_data"
    }
   ],
   "source": [
    "# probemos nuestra funcion\n",
    "def gx1prob(t):\n",
    "    return 0\n",
    "def gx2prob(t):\n",
    "    return 0\n",
    "\n",
    "L = 1e-8\n",
    "N = 100\n",
    "a = L/N\n",
    "x_0 = L/2\n",
    "sigma = 1e-10\n",
    "k = 5e10\n",
    "\n",
    "def gt0prob(x):\n",
    "    if x == 0:\n",
    "        return 0\n",
    "    if x == L:\n",
    "        return 0\n",
    "    return np.exp(-(x-x_0)**2/(2*sigma**2))*np.exp(1j*k*x)\n",
    "\n",
    "paso_tiempo = 10e-18\n",
    "tiempo_final = 8000e-18\n",
    "tiempo_inicial = 0\n",
    "matriz = crank_nicolson_schrodinguer(k=paso_tiempo,h=a,x1=0,gx1=gx1prob,x2=L,gx2=gx2prob,\n",
    "                      t0=tiempo_inicial,gt0=gt0prob,tfinal=tiempo_final)\n",
    "display(matriz.shape)\n",
    "\n",
    "matriz_real = matriz*np.conjugate(matriz)"
   ]
  },
  {
   "cell_type": "code",
   "execution_count": 3,
   "metadata": {},
   "outputs": [
    {
     "data": {
      "application/vnd.jupyter.widget-view+json": {
       "model_id": "d804a24ca01344dd8c4f6fd23e6ea2fd",
       "version_major": 2,
       "version_minor": 0
      },
      "text/plain": [
       "interactive(children=(IntSlider(value=0, description='i', max=800), Output()), _dom_classes=('widget-interact'…"
      ]
     },
     "metadata": {},
     "output_type": "display_data"
    }
   ],
   "source": [
    "from ipywidgets import interactive\n",
    "\n",
    "def plotting(i=0):\n",
    "    foto_en_tiempo = matriz_real[::,i]\n",
    "    #print(foto_en_tiempo)\n",
    "    plt.figure(figsize=(9, 7))\n",
    "    escalax = np.arange(0,L+a,a)\n",
    "    ax = plt.plot(escalax,foto_en_tiempo)\n",
    "    plt.title(f\"Solución {0+ i*paso_tiempo} s\")\n",
    "    \n",
    "interactive_plot = interactive(plotting,i=(0,int((tiempo_final-tiempo_inicial)/paso_tiempo),1))\n",
    "interactive_plot"
   ]
  }
 ],
 "metadata": {
  "kernelspec": {
   "display_name": "Python 3",
   "language": "python",
   "name": "python3"
  },
  "language_info": {
   "codemirror_mode": {
    "name": "ipython",
    "version": 3
   },
   "file_extension": ".py",
   "mimetype": "text/x-python",
   "name": "python",
   "nbconvert_exporter": "python",
   "pygments_lexer": "ipython3",
   "version": "3.7.6"
  }
 },
 "nbformat": 4,
 "nbformat_minor": 4
}
