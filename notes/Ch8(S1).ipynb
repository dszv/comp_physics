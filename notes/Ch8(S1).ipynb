{
 "cells": [
  {
   "cell_type": "markdown",
   "metadata": {},
   "source": [
    "# Ecuaciones diferenciales de primer orden con 1 variable"
   ]
  },
  {
   "cell_type": "markdown",
   "metadata": {},
   "source": [
    "- Se desea resolver esta ecuacion\n",
    "$$ \\dfrac{dx}{dt} = f(x,t) $$\n",
    "- Para resolver la ecuacion de arriba se necesita una condicion inicial ( $ x(t_0) = x_0 $) o condiciones de frontera ( esto no se vera aca ). "
   ]
  },
  {
   "cell_type": "markdown",
   "metadata": {},
   "source": [
    "# Metodo de Euler\n",
    "- Se hace un desarrollo de Euler alrededor de \"t\"\n",
    "\\begin{align}\n",
    "    x(t+h) &= x(t) + h \\dfrac{dx}{dt} + \\dfrac{1}{2}h^2\\dfrac{d^2x}{dt^2} \\\\\n",
    "           &= x(t) + h \\dfrac{dx}{dt} + O(h^2) \n",
    "\\end{align}\n",
    "- La aproximación consiste en ignorar los terminos de segundo orden\n",
    "$$ x(t+h) = x(t) + h \\dfrac{dx}{dt} $$ \n",
    "\n",
    "- Entonces hacemos el calculo iterativamente desde el punto \"t\" hasta otro punto \"t2\" deseado. Y asi por ejemplo podemos usar para calcular la funcion \"x\" de \"t=a\" hasta \"t=b\".  "
   ]
  },
  {
   "cell_type": "markdown",
   "metadata": {},
   "source": [
    "### Error del Metodo de euler\n",
    "- En un solo paso hay un error del orden de \"$h^2$\" por el termino $\\dfrac{1}{2}h^2\\dfrac{d^2x}{dt^2}$ ignorado\n",
    "- En muchos pasos desde \"t=a\" hasta \"t=b\" con N pasos tenemos un error del orden de \"h\" en especifico de: \n",
    "$$\\dfrac{1}{2}h [ f(x(b),b) - f(x(a),a) ]$$"
   ]
  },
  {
   "cell_type": "markdown",
   "metadata": {},
   "source": [
    "# Metodo de runge de 2do orden \n",
    "- El metodo runge-kutta de 2do orden tiene como expresion \n",
    "\\begin{align}\n",
    "    x(t+h) &= x(t) + h \\left(\\dfrac{dx}{dt}\\right)_{t+1/2} + O(h^3) \\\\\n",
    "           &= x(t) + h f(x(t+1/2h),t+1/2h)) + O(h^2) \n",
    "\\end{align}\n",
    "- Que en forma adecuada para codear se puede escribir como: \n",
    "\\begin{align}\n",
    "    k_1 &= h f(x,t) \\\\\n",
    "    k_2 &= h f(x+1/2\\cdot k_1, t+1/2\\cdot h) \\\\\n",
    "    x(t+h) &= x(t) + k_2 \n",
    "\\end{align}"
   ]
  },
  {
   "cell_type": "markdown",
   "metadata": {},
   "source": [
    "### Error del Metodo de runge de 2do orden\n",
    "- El error por paso \"h\" es del orden de \"$h^3$\" y error total de \"$h^2$\""
   ]
  },
  {
   "cell_type": "markdown",
   "metadata": {},
   "source": [
    "# Metodo de runge de 4to orden\n",
    "- Lo escribimos en forma ordenada para codear\n",
    "\\begin{align}\n",
    "k_1 &= hf(x,t) \\\\\n",
    "k_2 &= hf(x+ 1/2\\cdot k_1,t+ 1/2\\cdot h)\\\\\n",
    "k_3 &= hf(x+ 1/2 \\cdot k_2,t+1/2 \\cdot 1/2 \\cdot h) \\\\\n",
    "k_4 &= hf(x+1/2 \\cdot k3,t+1/2 \\cdot h) \\\\\n",
    "x(x+h) &= x(t) + \\dfrac{1}{6}(k_1 + 2k_2 + 2k_3 + k_4 ) \n",
    "\\end{align}"
   ]
  },
  {
   "cell_type": "code",
   "execution_count": 1,
   "metadata": {},
   "outputs": [],
   "source": [
    "import numpy as np\n",
    "import matplotlib.pyplot as plt"
   ]
  },
  {
   "cell_type": "markdown",
   "metadata": {},
   "source": [
    "# Euler implementación"
   ]
  },
  {
   "cell_type": "code",
   "execution_count": 2,
   "metadata": {},
   "outputs": [],
   "source": [
    "def euler(f,t0=0,x0=0,limsup=0,n=100):\n",
    "    '''\n",
    "    Funcion que recibe como argumentos \n",
    "    - f = funcion de R2-> R \n",
    "    - t0,x0 = condicion inicial (valor inicial)\n",
    "    - limsup = hasta donde se quiere hacer la prediccion \n",
    "    - n = numero de pasos\n",
    "    Y restorna un array de dos dimensiones , donde en la primera esta el dominio y la segunda es el rango predicho \n",
    "    '''\n",
    "    h = (limsup-t0)/n\n",
    "    t = t0\n",
    "    x = x0\n",
    "    cal_valores = [] # rango predicho\n",
    "    valores_t = [] # dominio donde se predice\n",
    "    cal_valores.append(x)\n",
    "    valores_t.append(t)\n",
    "    for k in range(0,n):\n",
    "        x = x + h*f(t,x)\n",
    "        t = t + h\n",
    "        cal_valores.append(x)\n",
    "        valores_t.append(t)\n",
    "    \n",
    "    lista_resultados = np.array([valores_t,cal_valores],dtype=np.float64)\n",
    "        \n",
    "    return np.array(lista_resultados)    "
   ]
  },
  {
   "cell_type": "markdown",
   "metadata": {},
   "source": [
    "# Runge kutta"
   ]
  },
  {
   "cell_type": "code",
   "execution_count": 12,
   "metadata": {},
   "outputs": [],
   "source": [
    "# implemento runge kuta 3\n",
    "def RK2(f=None,t0=0,x0=0,limsup=0,n=10):\n",
    "    '''\n",
    "    Funcion que recibe como argumentos \n",
    "    - f = funcion de R2-> R \n",
    "    - t0,x0 = condicion inicial (valor inicial)\n",
    "    - limsup = hasta donde se quiere hacer la prediccion\n",
    "    - n = numero de pasos\n",
    "    Y restorna un array de dos dimensiones , donde en la primera esta el dominio y la segunda es el rango predicho \n",
    "    '''\n",
    "    h = (limsup-t0)/n\n",
    "    t = t0\n",
    "    x = x0\n",
    "    cal_valores = [] # rango predicho\n",
    "    valores_t = [] # dominio donde se predice\n",
    "    cal_valores.append(x)\n",
    "    valores_t.append(t)\n",
    "    for i in range(0,n):\n",
    "        k1 = f(t,x)\n",
    "        k2 = f(t+1/2*h,x+1/2*k1*h)\n",
    "        x = x + k2\n",
    "        t = t0 + (i+1)*h\n",
    "        cal_valores.append(x)\n",
    "        valores_t.append(t)\n",
    "    lista_resultados = np.array([valores_t,cal_valores],dtype=np.float64)\n",
    "    return lista_resultados\n",
    "\n",
    "# implemento runge kuta 3\n",
    "def RK3(f=None,t0=0,x0=0,limsup=0,n=10):\n",
    "    '''\n",
    "    Funcion que recibe como argumentos \n",
    "    - f = funcion de R2-> R \n",
    "    - t0,x0 = condicion inicial (valor inicial)\n",
    "    - limsup = hasta donde se quiere hacer la prediccion\n",
    "    - n = numero de pasos\n",
    "    Y restorna un array de dos dimensiones , donde en la primera esta el dominio y la segunda es el rango predicho \n",
    "    '''\n",
    "    h = (limsup-t0)/n\n",
    "    t = t0\n",
    "    x = x0\n",
    "    cal_valores = [] # rango predicho\n",
    "    valores_t = [] # dominio donde se predice\n",
    "    cal_valores.append(x)\n",
    "    valores_t.append(t)\n",
    "    for i in range(0,n):\n",
    "        k1 = h*f(t,x)\n",
    "        k2 = h*f(t+1/2*h,x+1/2*k1)\n",
    "        k3 = h*f(t+h,x-k1+2*k2)\n",
    "        x = x + 1/6*(k1+4*k2+k3)\n",
    "        t = t0 + (i+1)*h\n",
    "        cal_valores.append(x)\n",
    "        valores_t.append(t)\n",
    "    \n",
    "    lista_resultados = np.array([valores_t,cal_valores],dtype=np.float64)\n",
    "    return lista_resultados\n",
    "\n",
    "\n",
    "# implemento runge kuta 4\n",
    "def RK4(f=None,t0=0,x0=0,limsup=0,n=10):\n",
    "    '''\n",
    "    Funcion que recibe como argumentos \n",
    "    - f = funcion de R2-> R \n",
    "    - t0,x0 = condicion inicial (valor inicial)\n",
    "    - limsup = hasta donde se quiere hacer la prediccion\n",
    "    - n = numero de pasos\n",
    "    Y restorna un array de dos dimensiones , donde en la primera esta el dominio y la segunda es el rango predicho \n",
    "    '''\n",
    "    h = (limsup-t0)/n\n",
    "    t = t0\n",
    "    x = x0\n",
    "    cal_valores = [] # rango predicho\n",
    "    valores_t = [] # dominio donde se predice\n",
    "    cal_valores.append(x)\n",
    "    valores_t.append(t)\n",
    "    for i in range(0,n):\n",
    "        k1 = h*f(t,x)\n",
    "        k2 = h*f(t+1/2*h,x+1/2*k1)\n",
    "        k3 = h*f(t+1/2*h,x+1/2*k2)\n",
    "        k4 = h*f(t+h,x+k3)\n",
    "        x = x + 1/6*(k1+2*k2+2*k3+k4)\n",
    "        t = t0 + (i+1)*h\n",
    "        cal_valores.append(x)\n",
    "        valores_t.append(t)\n",
    "        \n",
    "    lista_resultados = np.array([valores_t,cal_valores],dtype=np.float64)\n",
    "    return lista_resultados"
   ]
  },
  {
   "cell_type": "markdown",
   "metadata": {},
   "source": [
    "# Probando con el ejercicio del libro"
   ]
  },
  {
   "cell_type": "code",
   "execution_count": 17,
   "metadata": {},
   "outputs": [
    {
     "name": "stdout",
     "output_type": "stream",
     "text": [
      "//////////////////////// Ejercicio ejemplo del libro ///////////////////\n"
     ]
    },
    {
     "data": {
      "image/png": "[encoded data removed]",
      "text/plain": [
       "<Figure size 576x432 with 1 Axes>"
      ]
     },
     "metadata": {
      "needs_background": "light"
     },
     "output_type": "display_data"
    }
   ],
   "source": [
    "print(\"//////////////////////// Ejercicio ejemplo del libro ///////////////////\")\n",
    "# Problema a resolver \n",
    "# dx/dt = f(x,t)  DE t = 0 a t = 10. \n",
    "Pasos = 50\n",
    "def diff1(t,x):\n",
    "    return np.float64(-x**3+ np.sin(t))\n",
    "\n",
    "# la funcion \"y\" analitica es:\n",
    "########################### PENDIENTE VER CUAL ES LA SOLUCION REAL \n",
    "def funcion_resuelta(t):\n",
    "    return np.float64((2*t)**(-1/2) - np.cos(t) )\n",
    "\n",
    "\n",
    "# creamos el lugar donde graficaremos\n",
    "# fig es la figura y axes son los ejes (son elementos de cada figura)\n",
    "fig, axes = plt.subplots(nrows=1,ncols=1 , figsize = (8,6)) \n",
    "\n",
    "############### graficamos el analitico\n",
    "# t = np.linspace(0.1,10,100)\n",
    "#axes.plot(t,funcion_resuelta(t),'b',label=\"Analitico\")\n",
    "\n",
    "################# resolvemos el problema con el metodo de euler\n",
    "solucion_euler = euler(f=diff1,t0=0,x0=0,limsup=10,n=Pasos)\n",
    "#axes.plot(solucion_euler[0],solucion_euler[1],'r-*',label=\"Euler\")\n",
    "\n",
    "############ resolvemos el problema con el metodo de RK2\n",
    "solucion_RK2 = RK2(f=diff1,t0=0,x0=0,limsup=10,n=Pasos)\n",
    "axes.plot(solucion_RK2[0],solucion_RK2[1],'m-*',label=\"RK2\")\n",
    "\n",
    "################ resolvemos el problema con el metodo de RK4\n",
    "solucion_RK4 = RK4(f=diff1,t0=0,x0=0,limsup=10,n=Pasos+100)\n",
    "#axes.plot(solucion_RK4[0],solucion_RK4[1],'k-*',label=\"RK4\")\n",
    "\n",
    "\n",
    "\n",
    "# añadidos de imagen\n",
    "axes.grid(True)\n",
    "axes.legend( loc='upper left', shadow=True) \n",
    "fig.suptitle('Resultado de la pregunta 1 de aplicar distintos metodos', fontsize=20)\n",
    "\n",
    "plt.show()\n"
   ]
  }
 ],
 "metadata": {
  "kernelspec": {
   "display_name": "Python 3",
   "language": "python",
   "name": "python3"
  },
  "language_info": {
   "codemirror_mode": {
    "name": "ipython",
    "version": 3
   },
   "file_extension": ".py",
   "mimetype": "text/x-python",
   "name": "python",
   "nbconvert_exporter": "python",
   "pygments_lexer": "ipython3",
   "version": "3.7.6"
  }
 },
 "nbformat": 4,
 "nbformat_minor": 4
}
