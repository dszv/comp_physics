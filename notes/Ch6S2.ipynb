{
 "cells": [
  {
   "cell_type": "markdown",
   "id": "valued-liberia",
   "metadata": {},
   "source": [
    "# Eigenvalues and eigenvectors\n",
    "\n",
    "Most problems in physics concern real symmetric matrices (or Hermitian matrices when complex numbers are involved).\n",
    "\n",
    "- For a symmetric matrix $A$, an *eigenvector* $v$ is a vector satisfying $A v = \\lambda v$ wwhere $\\lambda$ is the corresponding *eigenvalue*.\n",
    "\n",
    "- For an $N \\times N$ matrix there are $N$ eigenvectors $v_i$ with eigenvalues $\\lambda_i$. The eigenvectors are assumed to be mutually orthonormal.\n",
    "\n",
    "- If we wish we can consider $AV = VD$ where $D$ is the diagonal matrix with the eigenvalues as its diagonal entries and $V$ is the matrix with the eigenvectors as its columns. It is easy to see that $V$ is orthogonal.\n",
    "\n",
    "- The most widely used technique for calculating eigenvalues and eigenvectors of real symmetric or Hermitian matrices on a computer is the QR algorithm. It works by calculating the matrices $V$ and $D$.\n",
    "\n",
    "- The QR algorithm makes use of the QR decomposition of a matrix. This is a variant of the LU decomposition, in which the matrix is written as the product $QR$ of an orthogonal matrix $Q$ and an upper-triangular matrix $R$.\n",
    "\n",
    "\n",
    "## The QR algorithm\n",
    "\n",
    "Any square matrix can be written in this form. Suppose we have a real, square matrix $A$ where \n",
    "\n",
    "$$ A = Q_1 R_1 $$\n",
    "\n",
    "multiplying on the by $Q^T_1$ we get\n",
    "\n",
    "$$ Q^T_1 A = Q^T_1 Q_1 R_1 = R_1 $$\n",
    "\n",
    "Now define\n",
    "\n",
    "$$ A_1 = R_1 Q_1 $$\n",
    "\n",
    "then we have\n",
    "\n",
    "$$ A_1 = Q^T_1 A Q_1 $$\n",
    "\n",
    "repeating the process we have\n",
    "\n",
    "$$ A_k = (Q^T_k \\dots Q^T_1 )A(Q_1 \\dots Q_K ) $$\n",
    "\n",
    "It can be proven that if you continue this process long enough, the matrix $A_k$ will eventually become diagonal. The off-diagonal entries of the matrix get smaller and smaller the more iterations of the process you do until they eventually reach zero, or as close to zero as makes no difference. The matrix $A_k$ approximates a diagonal matrix $D$. Define\n",
    "\n",
    "$$ V = Q_1 Q_2 \\dots Q_k = \\prod_k Q_i $$\n",
    "\n",
    "then\n",
    "\n",
    "$$ D = A_k = V^T A V \\qquad \\Rightarrow \\qquad AV = VD$$\n",
    "\n",
    "The columns of $V$ are the eigenvectors of $A$ and the diagonal elements of $D$ are the corresponding eigenvalues (in the same order as the \n",
    "eigenvectors).\n",
    "\n",
    "### Algorithm\n",
    "\n",
    "For a given $N \\times N$ starting matrix $A$, the complete algorithm is as follows: \n",
    "\n",
    "1. Create an $N \\times N$ matrix $V$ to hold the eigenvectors and initially set it equal to the identity matrix $I$. Also choose a target accuracy $\\epsilon $ for the off-diagonal elements of the eigenvalue matrix. \n",
    "\n",
    "2. Calculate the QR decomposition $A = QR$. \n",
    "\n",
    "3. Update $A$ to the new value $A = RQ$.\n",
    "\n",
    "4. Multiply $V$ on the right by $Q$. \n",
    "\n",
    "5. Check the off-diagonal elements of $A$. If they are all less than $\\epsilon $, we are done. Otherwise go back to step 2. \n",
    "\n",
    "When the algorithm ends, the diagonal elements of A contain the eigenvalues and the columns of $V$ contain the eigenvectors."
   ]
  },
  {
   "cell_type": "markdown",
   "id": "plain-rabbit",
   "metadata": {},
   "source": [
    "### Implementation with numpy\n",
    "\n",
    "The QR algorithm is short and simple to describe. The only tricky part is calculating the QR decomposition itself, although even this is not very complicated. It can be done in a few lines in Python."
   ]
  },
  {
   "cell_type": "code",
   "execution_count": 1,
   "id": "aquatic-detail",
   "metadata": {},
   "outputs": [
    {
     "name": "stdout",
     "output_type": "stream",
     "text": [
      "[-1.  3.]\n",
      "[[-0.70710678  0.70710678]\n",
      " [ 0.70710678  0.70710678]]\n"
     ]
    }
   ],
   "source": [
    "# QR algorithm for symmetric matrices\n",
    "\n",
    "import numpy as np\n",
    "import numpy.linalg as la\n",
    "\n",
    "A = np.array([[ 1, 2 ], [ 2, 1 ]], float) \n",
    "x, V = la.eigh(A) # x:eigenvalues, V:eigenvectors as columns\n",
    "\n",
    "print(x)\n",
    "print(V)"
   ]
  },
  {
   "cell_type": "code",
   "execution_count": 2,
   "id": "scientific-giant",
   "metadata": {},
   "outputs": [
    {
     "name": "stdout",
     "output_type": "stream",
     "text": [
      "[-1.  3.]\n"
     ]
    }
   ],
   "source": [
    "# only eigenvalues\n",
    "x = la.eigvalsh(A)\n",
    "\n",
    "print(x)"
   ]
  },
  {
   "cell_type": "markdown",
   "id": "dominant-ecuador",
   "metadata": {},
   "source": [
    "You might ask what happens if you provide an asymmetric matrix as argument to these functions? The program just ignores all elements of the matrix above the diagonal. You can if you wish leave the upper triangle blank-assign no values to these elements, or set them to zero. It will have no effect on the answer."
   ]
  },
  {
   "cell_type": "code",
   "execution_count": 3,
   "id": "beneficial-myanmar",
   "metadata": {},
   "outputs": [
    {
     "name": "stdout",
     "output_type": "stream",
     "text": [
      "[-1.  3.]\n"
     ]
    }
   ],
   "source": [
    "A = np.array([[ 1, 0], [ 2, 1 ]] , float) \n",
    "x = la.eigvalsh(A)\n",
    "\n",
    "print(x)"
   ]
  },
  {
   "cell_type": "markdown",
   "id": "afraid-jersey",
   "metadata": {},
   "source": [
    "If the matrix is complex instead of real, eigh and eigvalsh will assume it to be Hermitian and calculate the eigenvalues and eigenvectors accordingly.\n",
    "\n",
    "The module `linalg` does also supply functions for calculating eigenvalues and eigenvectors of nonsymmetric (or non-Hermitian) matrices."
   ]
  },
  {
   "cell_type": "code",
   "execution_count": 4,
   "id": "composite-street",
   "metadata": {},
   "outputs": [
    {
     "name": "stdout",
     "output_type": "stream",
     "text": [
      "[1. 1.]\n"
     ]
    }
   ],
   "source": [
    "A = np.array([[ 1, 0], [ 2, 1 ]] , float) \n",
    "x = la.eigvals(A)\n",
    "\n",
    "print(x)"
   ]
  },
  {
   "cell_type": "code",
   "execution_count": 5,
   "id": "disturbed-person",
   "metadata": {},
   "outputs": [
    {
     "name": "stdout",
     "output_type": "stream",
     "text": [
      "[1. 1.]\n",
      "[[ 0.00000000e+00  1.11022302e-16]\n",
      " [ 1.00000000e+00 -1.00000000e+00]]\n"
     ]
    }
   ],
   "source": [
    "# QR algorithm for non-symmetric matrices\n",
    "\n",
    "import numpy as np\n",
    "import numpy.linalg as la\n",
    "\n",
    "A = np.array([[ 1, 0 ], [ 2, 1 ]], float) \n",
    "x, V = la.eig(A) # x:eigenvalues, V:eigenvectors as columns\n",
    "\n",
    "print(x)\n",
    "print(V)"
   ]
  }
 ],
 "metadata": {
  "kernelspec": {
   "display_name": "Python 3",
   "language": "python",
   "name": "python3"
  },
  "language_info": {
   "codemirror_mode": {
    "name": "ipython",
    "version": 3
   },
   "file_extension": ".py",
   "mimetype": "text/x-python",
   "name": "python",
   "nbconvert_exporter": "python",
   "pygments_lexer": "ipython3",
   "version": "3.9.6"
  }
 },
 "nbformat": 4,
 "nbformat_minor": 5
}
