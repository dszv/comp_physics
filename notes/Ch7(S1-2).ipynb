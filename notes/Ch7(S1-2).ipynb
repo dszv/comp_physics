{
 "cells": [
  {
   "cell_type": "markdown",
   "metadata": {},
   "source": [
    "# Series de Fourier\n",
    "\n",
    "Sea una función periodica $f(x)$ definida en $ 0<x<L $. Esta funcion puede ser escrita como una serie de Fourier\n",
    "\n",
    "##### Si la función es simétrica en $x = 1/2L$\n",
    "$$ f(x) = \\sum_{k=0}^{\\infty} \\alpha_k cos\\left(\\dfrac{2 \\pi kx}{L} \\right)$$\n",
    "\n",
    "##### Si la función es antisimétrica $x = 1/2L$\n",
    "$$ f(x) = \\sum_{k=1}^{\\infty} \\alpha_k sin\\left(\\dfrac{2 \\pi kx}{L} \\right)$$\n",
    "\n",
    "##### Una función en general \n",
    "$$ f(x) = \\sum_{k=0}^{\\infty} \\alpha_k cos\\left(\\dfrac{2 \\pi kx}{L} \\right) + \\sum_{k=1}^{\\infty} \\alpha_k sin\\left(\\dfrac{2 \\pi kx}{L} \\right)$$\n",
    "\n",
    "- Alternativo usando $ cos(\\theta) = \\dfrac{1}{2}( e^{-i\\theta} + e^{i\\theta})$ como tambien $ sin(\\theta) = \\dfrac{1}{2}i( e^{-i\\theta} - e^{i\\theta})$ tenemos\n",
    "\n",
    "$$ f(x) = \\sum_{-\\infty}^{\\infty} \\gamma_k exp\\left(\\dfrac{2 \\pi kx}{L} \\right)$$\n",
    "\n",
    "- Donde \n",
    "\n",
    "$$ \\gamma_k = \\left \\{ \\begin{matrix}\n",
    "\\dfrac{1}{2}(\\alpha_{-k} + i\\beta_{-k}) & ;if \\quad  k<0\\\\\n",
    "\\alpha_0 & ;if \\quad k=0 \\\\\n",
    "\\dfrac{1}{2}(\\alpha_{k} - i\\beta_{k}) & ;if \\quad k>0\\\\\n",
    "\\end{matrix} \\right.$$"
   ]
  },
  {
   "cell_type": "markdown",
   "metadata": {},
   "source": [
    "### Como se halla los coeficientes $\\gamma_k$ ? \n",
    "\n",
    "$$ \\gamma_k = \\dfrac{1}{L}\\int_0^{L} f(x)\\; exp\\left(\\dfrac{-i 2\\pi k x}{L}\\right) dx$$"
   ]
  },
  {
   "cell_type": "markdown",
   "metadata": {},
   "source": [
    "# Transformada Discreta de Fourier\n",
    "\n",
    "- Para hallar integrales en los valores $\\gamma_k$ se puede usar la regla del trapecio. Se usa N slices asi $h=\\dfrac{L}{N}$ \n",
    "\n",
    "$$ \\gamma_k = \\dfrac{1}{L}\\dfrac{L}{N} \\left[ \\dfrac{1}{2} f(0) + \\dfrac{1}{2} f(L) + \\sum_{n=1}^{N-1} f(x_n)\\; exp\\left(\\dfrac{-i 2\\pi k x_n}{L}\\right)  \\right]$$ \n",
    "\n",
    "Donde \n",
    "\n",
    "$$ x_n = \\dfrac{n}{N}L $$\n",
    "\n",
    "- Pero usando la hipotesis de funcion periodica, es decir $f(0) = f(L) $, tenemos\n",
    "\n",
    "$$ \\gamma_k = \\dfrac{1}{N} \\left[ \\sum_{n=0}^{N-1} f(x_n)\\; exp\\left(\\dfrac{-i 2\\pi k x_n}{L}\\right)  \\right]$$ \n",
    "\n",
    "- La ecuación anterior haciendo el cambio $c_k = \\dfrac{\\gamma_k}{N}$ y tambien $f(x_n) = y_n$, tenemos\n",
    "\n",
    "$$ c_k =   \\sum_{n=0}^{N-1} y_n\\; exp\\left(\\dfrac{-i 2\\pi k n}{N}\\right) $$ \n",
    "\n",
    "- $c_k$ el libro se refiere a los coeficientes de Fourier aunque estrictamente hablando los $\\gamma_k$ son los verdaderos coeficientes de Fourier. "
   ]
  },
  {
   "cell_type": "markdown",
   "metadata": {},
   "source": [
    "# La transformada discreta de Fourier inversa\n",
    "A pesar de la aproximación los $c_k$ son exactos en el sentido de que podemos recuperar los $y_n$ conociendo los $c_k$ con la siguiente formula\n",
    "\n",
    "$$ y_k =  \\dfrac{1}{N}\\sum_{n=0}^{N-1} c_n\\; exp\\left(\\dfrac{i 2\\pi k n}{N}\\right) $$ "
   ]
  },
  {
   "cell_type": "markdown",
   "metadata": {},
   "source": [
    "# Para el caso que f(x) sea real ( ahorrando recursos )\n",
    "\n",
    "- Se puede demostrar que $c_{N-r} = c_r^{*}$ para $1<r<\\dfrac{1}{2}N$ ya sea N par o impar\n",
    "- Asi tenemos que calcular en vez de N coeficientes, solo $\\dfrac{N}{2} +1 $ coeficientes. ( para N par ) \n",
    "- Asi tenemos que calcular en vez de N coeficientes, solo $\\dfrac{1}{2}(N +1) $ coeficientes. ( para N impar ) "
   ]
  },
  {
   "cell_type": "code",
   "execution_count": 4,
   "metadata": {},
   "outputs": [],
   "source": [
    "import numpy as np\n",
    "from numpy import zeros\n",
    "\n",
    "# para funciones reales \n",
    "def dft(y):\n",
    "    N = len(y)\n",
    "    c = np.zeros(N//2+1,complex) # genera el espacio \n",
    "    \n",
    "    for k in range(N//2+1):\n",
    "        for n in range(N):\n",
    "            c[k] += y[n]*exp(-2j*pi*k*n/N)\n",
    "    return c"
   ]
  }
 ],
 "metadata": {
  "kernelspec": {
   "display_name": "Python 3",
   "language": "python",
   "name": "python3"
  },
  "language_info": {
   "codemirror_mode": {
    "name": "ipython",
    "version": 3
   },
   "file_extension": ".py",
   "mimetype": "text/x-python",
   "name": "python",
   "nbconvert_exporter": "python",
   "pygments_lexer": "ipython3",
   "version": "3.7.6"
  }
 },
 "nbformat": 4,
 "nbformat_minor": 4
}
