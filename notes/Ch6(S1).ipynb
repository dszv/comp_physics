{
 "cells": [
  {
   "cell_type": "markdown",
   "metadata": {},
   "source": [
    "# Gaussian elimination and backsubstitution"
   ]
  },
  {
   "cell_type": "markdown",
   "metadata": {},
   "source": [
    "Solucionamos sistemas de la forma:\n",
    "\n",
    "$$\\begin{bmatrix}\n",
    "        A_{00} & A_{01} & A_{02} & A_{03} \\\\\n",
    "        A_{10} & A_{11} & A_{12} & A_{13} \\\\\n",
    "        A_{20} & A_{21} & A_{22} & A_{23} \\\\\n",
    "        A_{30} & A_{31} & A_{32} & A_{33} \\\\\n",
    "    \\end{bmatrix}\n",
    "    \\begin{bmatrix}\n",
    "        w \\\\ x \\\\ y \\\\ z\n",
    "    \\end{bmatrix} =\n",
    "    \\begin{bmatrix}\n",
    "        V_0 \\\\ V_1 \\\\ V_2 \\\\ V_3\n",
    "    \\end{bmatrix},$$\n",
    "\n",
    "simplificándolos con eliminación gaussiana\n",
    "\n",
    "$$\\begin{bmatrix}\n",
    "        1 & a_{01} & a_{02} & a_{03} \\\\\n",
    "        0 & 1 & a_{12} & a_{13} \\\\\n",
    "        0 & 0 & 1 & a_{23} \\\\\n",
    "        0 & 0 & 0 & 1\n",
    "    \\end{bmatrix}\n",
    "    \\begin{bmatrix}\n",
    "        w \\\\ x \\\\ y \\\\ z\n",
    "    \\end{bmatrix} =\n",
    "    \\begin{bmatrix}\n",
    "        v_0 \\\\ v_1 \\\\ v_2 \\\\ v_3\n",
    "    \\end{bmatrix},$$\n",
    "    \n",
    "y luego resolviéndolos con backsubstitution\n",
    "\n",
    "$$\\begin{eqnarray}\n",
    "z &=& v_3\\\\\n",
    "y &=& v_2 - a_{23} z \\\\\n",
    "x &=& v_1 - a_{12} y - a_{13} z \\\\\n",
    "w &=& v_0 - a_{01} x - a_{02} y - a_{03} z \n",
    "\\end{eqnarray}$$"
   ]
  },
  {
   "cell_type": "code",
   "execution_count": 1,
   "metadata": {},
   "outputs": [],
   "source": [
    "import numpy as np"
   ]
  },
  {
   "cell_type": "code",
   "execution_count": 2,
   "metadata": {},
   "outputs": [],
   "source": [
    "def Gauss_Elim_Backsub(A, v, ϵ = 0):\n",
    "    # Tamaño del array v\n",
    "    N = len(v)\n",
    "    x = np.empty(N, float)\n",
    "    \n",
    "    for n in range(N):\n",
    "        div = A[n,n]\n",
    "        \n",
    "        i = 1\n",
    "        while abs(div) <= ϵ and i < N - n:\n",
    "            A[n+i,:], A[n,:] = np.copy(A[n,:]), np.copy(A[n+i,:])\n",
    "            v[n+i], v[n] = v[n], v[n+i]\n",
    "            div = A[n,n]\n",
    "            i += 1\n",
    "        \n",
    "        if div == 0 and i == N - n: \n",
    "            print(\"Hay algo mal aquí\")\n",
    "            return np.zeros_like(v)\n",
    "        \n",
    "        # División por cada elemento de la diagonal\n",
    "        A[n,:] /= div\n",
    "        v[n] /= div\n",
    "        \n",
    "        # Resta por cada fila\n",
    "        for i in range(n+1,N):\n",
    "            mult = A[i,n]\n",
    "            A[i,:] -= mult*A[n,:]\n",
    "            v[i] -= mult*v[n]\n",
    "    \n",
    "    # Backsubstituting\n",
    "    for n in range(N-1,-1,-1):\n",
    "        x[n] = v[n]\n",
    "        for i in range(n+1,N):\n",
    "            x[n] -= A[n,i]*x[i]\n",
    "\n",
    "    return x"
   ]
  },
  {
   "cell_type": "code",
   "execution_count": 23,
   "metadata": {},
   "outputs": [],
   "source": [
    "# Matriz A y array v\n",
    "\n",
    "A = np.array([[2, 1, 4, 1],\n",
    "             [3, 4, -1, -1],\n",
    "             [1, -4, 1, 5],\n",
    "             [2, -2, 1, 3]], float)\n",
    "v = np.array([-4, 3, 9, 7], float)"
   ]
  },
  {
   "cell_type": "code",
   "execution_count": 18,
   "metadata": {},
   "outputs": [
    {
     "data": {
      "text/plain": [
       "array([ 1.61904762, -0.42857143, -1.23809524,  1.38095238])"
      ]
     },
     "execution_count": 18,
     "metadata": {},
     "output_type": "execute_result"
    }
   ],
   "source": [
    "# Usamos la función para calcular la solución\n",
    "\n",
    "x = Gauss_Elim_Backsub(np.copy(A), np.copy(v))\n",
    "x"
   ]
  },
  {
   "cell_type": "code",
   "execution_count": 19,
   "metadata": {},
   "outputs": [
    {
     "data": {
      "text/plain": [
       "array([ 1.61904762, -0.42857143, -1.23809524,  1.38095238])"
      ]
     },
     "execution_count": 19,
     "metadata": {},
     "output_type": "execute_result"
    }
   ],
   "source": [
    "# Solución con numpy\n",
    "\n",
    "np.linalg.solve(A,v)"
   ]
  },
  {
   "cell_type": "code",
   "execution_count": 12,
   "metadata": {},
   "outputs": [
    {
     "data": {
      "text/plain": [
       "array([[ 1. ,  0.5,  2. ,  0.5],\n",
       "       [ 0. ,  1. , -2.8, -1. ],\n",
       "       [-0. , -0. ,  1. , -0. ],\n",
       "       [-0. , -0. , -0. ,  1. ]])"
      ]
     },
     "execution_count": 12,
     "metadata": {},
     "output_type": "execute_result"
    }
   ],
   "source": [
    "A"
   ]
  },
  {
   "cell_type": "code",
   "execution_count": 13,
   "metadata": {},
   "outputs": [
    {
     "data": {
      "text/plain": [
       "array([-2. ,  3.6, -2. ,  1. ])"
      ]
     },
     "execution_count": 13,
     "metadata": {},
     "output_type": "execute_result"
    }
   ],
   "source": [
    "v"
   ]
  },
  {
   "cell_type": "markdown",
   "metadata": {},
   "source": [
    "# Descomposición LU"
   ]
  },
  {
   "cell_type": "code",
   "execution_count": 20,
   "metadata": {},
   "outputs": [],
   "source": [
    "def LU_descomposition(A):\n",
    "    M, N = A.shape\n",
    "    L = np.zeros_like(A,dtype=float) # Matriz L\n",
    "    U = np.copy(A) # Matriz U\n",
    "    \n",
    "    ''' Realizamos la eliminación gaussiana de A\n",
    "        Y guardamos esto como U \n",
    "        Para L, escogemos los elementos adecuados\n",
    "        tras cada paso ''' \n",
    "    \n",
    "    for n in range(N):\n",
    "        for i in range(n,N):\n",
    "            L[i,n] = U[i,n]\n",
    "        \n",
    "        # Eliminación gaussiana\n",
    "        div = U[n,n]\n",
    "        U[n,:] /= div\n",
    "        \n",
    "        for i in range(n+1,N):\n",
    "            mult = U[i,n]\n",
    "            U[i,:] -= mult*U[n,:]\n",
    "    \n",
    "    return L, U"
   ]
  },
  {
   "cell_type": "code",
   "execution_count": 21,
   "metadata": {},
   "outputs": [],
   "source": [
    "def sol_LU(A, v):\n",
    "    L, U = LU_descomposition(A)\n",
    "    N = len(v)\n",
    "    y = np.empty(N,dtype=float)\n",
    "    x = np.empty(N,dtype=float)\n",
    "    \n",
    "    for n in range(0,N):\n",
    "        y[n] = v[n]/L[n,n]\n",
    "        for i in range(0,n):\n",
    "            y[n] -= y[i]*L[n,i]/L[n,n]\n",
    "    \n",
    "    for n in range(N-1,-1,-1):\n",
    "        x[n] = y[n]/U[n,n]\n",
    "        for i in range(n+1,N):\n",
    "            x[n] -= x[i]*U[n,i]/U[n,n]\n",
    "            \n",
    "    return x"
   ]
  },
  {
   "cell_type": "code",
   "execution_count": 24,
   "metadata": {},
   "outputs": [
    {
     "data": {
      "text/plain": [
       "array([[ 2.,  1.,  4.,  1.],\n",
       "       [ 3.,  4., -1., -1.],\n",
       "       [ 1., -4.,  1.,  5.],\n",
       "       [ 2., -2.,  1.,  3.]])"
      ]
     },
     "execution_count": 24,
     "metadata": {},
     "output_type": "execute_result"
    }
   ],
   "source": [
    "L, U = LU_descomposition(A)\n",
    "np.dot(L,U)"
   ]
  },
  {
   "cell_type": "code",
   "execution_count": 25,
   "metadata": {},
   "outputs": [
    {
     "data": {
      "text/plain": [
       "array([ 2., -1., -2.,  1.])"
      ]
     },
     "execution_count": 25,
     "metadata": {},
     "output_type": "execute_result"
    }
   ],
   "source": [
    "x = sol_LU(A, v)\n",
    "x"
   ]
  },
  {
   "cell_type": "code",
   "execution_count": 26,
   "metadata": {},
   "outputs": [
    {
     "data": {
      "text/plain": [
       "array([ 2., -1., -2.,  1.])"
      ]
     },
     "execution_count": 26,
     "metadata": {},
     "output_type": "execute_result"
    }
   ],
   "source": [
    "# Del paquete numpy\n",
    "\n",
    "x = np.linalg.solve(A,v)\n",
    "x"
   ]
  },
  {
   "cell_type": "markdown",
   "metadata": {},
   "source": [
    "# Inversa de una matriz\n",
    "\n",
    "$$\\mathbf{A x} = \\mathbf{v}$$\n",
    "\n",
    "$$\\mathbf{x} = \\mathbf{A^{-1} v}$$"
   ]
  },
  {
   "cell_type": "code",
   "execution_count": 28,
   "metadata": {},
   "outputs": [
    {
     "data": {
      "text/plain": [
       "array([ 2., -1., -2.,  1.])"
      ]
     },
     "execution_count": 28,
     "metadata": {},
     "output_type": "execute_result"
    }
   ],
   "source": [
    "# Del paquete numpy, la inversa de una matriz A\n",
    "# se calcula con np.linalg.inv(A)\n",
    "\n",
    "x = np.dot(np.linalg.inv(A),v)\n",
    "x"
   ]
  },
  {
   "cell_type": "code",
   "execution_count": null,
   "metadata": {},
   "outputs": [],
   "source": []
  }
 ],
 "metadata": {
  "kernelspec": {
   "display_name": "Python 3",
   "language": "python",
   "name": "python3"
  },
  "language_info": {
   "codemirror_mode": {
    "name": "ipython",
    "version": 3
   },
   "file_extension": ".py",
   "mimetype": "text/x-python",
   "name": "python",
   "nbconvert_exporter": "python",
   "pygments_lexer": "ipython3",
   "version": "3.7.4"
  }
 },
 "nbformat": 4,
 "nbformat_minor": 4
}
