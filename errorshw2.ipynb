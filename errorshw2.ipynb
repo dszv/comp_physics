{
 "cells": [
  {
   "cell_type": "code",
   "execution_count": 4,
   "id": "65ab4b43",
   "metadata": {},
   "outputs": [],
   "source": [
    "def Fun(x):\n",
    "    return x*(x-1)"
   ]
  },
  {
   "cell_type": "code",
   "execution_count": 2,
   "id": "46b3fd72",
   "metadata": {},
   "outputs": [],
   "source": [
    "def Derv_Fun(func,x,delta):\n",
    "    return((func(x+delta)-func(x))/delta)"
   ]
  },
  {
   "cell_type": "code",
   "execution_count": 6,
   "id": "0a6ce32e",
   "metadata": {},
   "outputs": [
    {
     "name": "stdout",
     "output_type": "stream",
     "text": [
      "1.010000000000001\n"
     ]
    }
   ],
   "source": [
    "d=10**(-2)\n",
    "print(Derv_Fun(Fun,1,d))"
   ]
  },
  {
   "cell_type": "code",
   "execution_count": 7,
   "id": "6737fe6f",
   "metadata": {},
   "outputs": [
    {
     "name": "stdout",
     "output_type": "stream",
     "text": [
      "1.0000999999998899\n"
     ]
    }
   ],
   "source": [
    "d=10**(-4)\n",
    "print(Derv_Fun(Fun,1,d))"
   ]
  },
  {
   "cell_type": "code",
   "execution_count": 8,
   "id": "6b90fb03",
   "metadata": {},
   "outputs": [
    {
     "name": "stdout",
     "output_type": "stream",
     "text": [
      "1.0000000039225287\n"
     ]
    }
   ],
   "source": [
    "d=10**(-8)\n",
    "print(Derv_Fun(Fun,1,d))"
   ]
  },
  {
   "cell_type": "code",
   "execution_count": 18,
   "id": "2a5ce278",
   "metadata": {},
   "outputs": [
    {
     "name": "stdout",
     "output_type": "stream",
     "text": [
      "0.9992007221627407\n"
     ]
    }
   ],
   "source": [
    "d=10**(-13)\n",
    "print(Derv_Fun(Fun,1,d))"
   ]
  }
 ],
 "metadata": {
  "kernelspec": {
   "display_name": "Python 3 (ipykernel)",
   "language": "python",
   "name": "python3"
  },
  "language_info": {
   "codemirror_mode": {
    "name": "ipython",
    "version": 3
   },
   "file_extension": ".py",
   "mimetype": "text/x-python",
   "name": "python",
   "nbconvert_exporter": "python",
   "pygments_lexer": "ipython3",
   "version": "3.8.10"
  }
 },
 "nbformat": 4,
 "nbformat_minor": 5
}
