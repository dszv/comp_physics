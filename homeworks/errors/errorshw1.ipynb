{
 "cells": [
  {
   "cell_type": "code",
   "execution_count": 9,
   "id": "c41a74aa",
   "metadata": {},
   "outputs": [],
   "source": [
    "from numpy import sqrt\n",
    "\n",
    "def Quad_Formula(a,b,c):\n",
    "    delta=sqrt(b**2-4*a*c)\n",
    "    print(2*a)\n",
    "    print(-b+delta)\n",
    "    print(-b-delta)\n",
    "    return [(-b+delta)/(2*a),(-b-delta)/(2*a)]"
   ]
  },
  {
   "cell_type": "code",
   "execution_count": 10,
   "id": "cd6de4ad",
   "metadata": {},
   "outputs": [
    {
     "name": "stdout",
     "output_type": "stream",
     "text": [
      "0.002\n",
      "-1.999978849198669e-09\n",
      "-1999.999999998\n",
      "[-9.999894245993346e-07, -999999.999999]\n"
     ]
    }
   ],
   "source": [
    "print(Quad_Formula(0.001,1000,0.001))"
   ]
  },
  {
   "cell_type": "code",
   "execution_count": 13,
   "id": "f66e4c70",
   "metadata": {},
   "outputs": [],
   "source": [
    "def Var_Quad_Formula(a,b,c):\n",
    "    delta=sqrt(b**2-4*a*c)\n",
    "    print(2*a)\n",
    "    print(-b-delta)\n",
    "    print(-b+delta)\n",
    "    return [(2*c)/(-b-delta),(2*c)/(-b+delta)]"
   ]
  },
  {
   "cell_type": "code",
   "execution_count": 14,
   "id": "08de088f",
   "metadata": {},
   "outputs": [
    {
     "name": "stdout",
     "output_type": "stream",
     "text": [
      "0.002\n",
      "-1999.999999998\n",
      "-1.999978849198669e-09\n",
      "[-1.000000000001e-06, -1000010.5755125057]\n"
     ]
    }
   ],
   "source": [
    "print(Var_Quad_Formula(0.001,1000,0.001))"
   ]
  },
  {
   "cell_type": "code",
   "execution_count": 30,
   "id": "13c31455",
   "metadata": {},
   "outputs": [],
   "source": [
    "def Quad_Formula_2(a,b,c):\n",
    "    delta=sqrt(b**2-4*a*c)\n",
    "    aux1=-b+delta\n",
    "    aux2=-b-delta\n",
    "    if abs(aux1)>abs(aux2):\n",
    "        root1=aux1/(2*a)\n",
    "        root2=2*c/aux1\n",
    "    else:\n",
    "        root1=2*c/aux2\n",
    "        root2=aux2/(2*a)\n",
    "    return([root1,root2])"
   ]
  },
  {
   "cell_type": "code",
   "execution_count": 31,
   "id": "56d679f6",
   "metadata": {},
   "outputs": [
    {
     "name": "stdout",
     "output_type": "stream",
     "text": [
      "[-1.000000000001e-06, -999999.999999]\n"
     ]
    }
   ],
   "source": [
    "print(Quad_Formula_2(0.001,1000,0.001))"
   ]
  }
 ],
 "metadata": {
  "kernelspec": {
   "display_name": "Python 3 (ipykernel)",
   "language": "python",
   "name": "python3"
  },
  "language_info": {
   "codemirror_mode": {
    "name": "ipython",
    "version": 3
   },
   "file_extension": ".py",
   "mimetype": "text/x-python",
   "name": "python",
   "nbconvert_exporter": "python",
   "pygments_lexer": "ipython3",
   "version": "3.8.10"
  }
 },
 "nbformat": 4,
 "nbformat_minor": 5
}
