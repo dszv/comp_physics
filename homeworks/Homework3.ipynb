{
 "cells": [
  {
   "cell_type": "markdown",
   "metadata": {},
   "source": [
    "# Homework 3"
   ]
  },
  {
   "cell_type": "code",
   "execution_count": 111,
   "metadata": {},
   "outputs": [],
   "source": [
    "import numpy as np\n",
    "from scipy.integrate import quad\n",
    "import matplotlib.pyplot as plt"
   ]
  },
  {
   "cell_type": "markdown",
   "metadata": {},
   "source": [
    "## 1. Quadratic equations"
   ]
  },
  {
   "cell_type": "code",
   "execution_count": null,
   "metadata": {},
   "outputs": [],
   "source": [
    "from math import sqrt"
   ]
  },
  {
   "cell_type": "code",
   "execution_count": 10,
   "metadata": {},
   "outputs": [],
   "source": [
    "# Primera forma de calcular raíces\n",
    "\n",
    "def quad_roots(a,b,c):\n",
    "    Δ = b**2 - 4*a*c\n",
    "    if Δ > 0:\n",
    "        return [(-b + sqrt(Δ))/(2*a), (-b - sqrt(Δ))/(2*a)]\n",
    "    elif Δ == 0:\n",
    "        return -b/(2*a)\n",
    "    else:\n",
    "        return [complex((-b)/(2*a), sqrt(-Δ)/(2*a)), \\\n",
    "                complex((-b)/(2*a), -sqrt(-Δ)/(2*a)) ]"
   ]
  },
  {
   "cell_type": "code",
   "execution_count": 16,
   "metadata": {},
   "outputs": [
    {
     "data": {
      "text/plain": [
       "[-9.999894245993346e-07, -999999.999999]"
      ]
     },
     "execution_count": 16,
     "metadata": {},
     "output_type": "execute_result"
    }
   ],
   "source": [
    "# Polinomio de coeficientes\n",
    "coeff = [0.001,1000,0.001]\n",
    "\n",
    "quad_roots(*coeff)"
   ]
  },
  {
   "cell_type": "code",
   "execution_count": 11,
   "metadata": {},
   "outputs": [],
   "source": [
    "# Segunda forma de calcular raíces\n",
    "\n",
    "def quad_roots_alt(a,b,c):\n",
    "    Δ = b**2 - 4*a*c\n",
    "    if Δ > 0:\n",
    "        return [2*c/(-b - sqrt(Δ)), 2*c/(-b + sqrt(Δ))]\n",
    "    elif Δ == 0:\n",
    "        return -2*c/b\n",
    "    else:\n",
    "        return [complex((-b)/(2*a), sqrt(-Δ)/(2*a)), \\\n",
    "                complex((-b)/(2*a), -sqrt(-Δ)/(2*a)) ]"
   ]
  },
  {
   "cell_type": "code",
   "execution_count": 18,
   "metadata": {},
   "outputs": [
    {
     "data": {
      "text/plain": [
       "[-1.000000000001e-06, -1000010.5755125057]"
      ]
     },
     "execution_count": 18,
     "metadata": {},
     "output_type": "execute_result"
    }
   ],
   "source": [
    "quad_roots_alt(*coeff)"
   ]
  },
  {
   "cell_type": "markdown",
   "metadata": {},
   "source": [
    "**Usando la función $\\texttt{roots}$ de la librería $\\texttt{numpy}$.**"
   ]
  },
  {
   "cell_type": "code",
   "execution_count": 17,
   "metadata": {},
   "outputs": [
    {
     "data": {
      "text/plain": [
       "array([-1.e+06, -1.e-06])"
      ]
     },
     "execution_count": 17,
     "metadata": {},
     "output_type": "execute_result"
    }
   ],
   "source": [
    "''' numpy.roots(p): Return the roots of a polynomial \n",
    "                    with coefficients given in p '''\n",
    "\n",
    "np.roots(coeff)"
   ]
  },
  {
   "cell_type": "markdown",
   "metadata": {},
   "source": [
    "## 2. Calculating derivatives"
   ]
  },
  {
   "cell_type": "markdown",
   "metadata": {},
   "source": [
    "De la definición de derivada\n",
    "$$\\dfrac{df}{dx} = \\lim_{\\delta \\rightarrow 0} \\dfrac{f(x+\\delta) - f(x)}{\\delta}$$\n",
    "hacemos $\\delta$ pequeño para calcular la derivada numéricamente."
   ]
  },
  {
   "cell_type": "code",
   "execution_count": 19,
   "metadata": {},
   "outputs": [],
   "source": [
    "# Definiendo función x\n",
    "def func2(x):\n",
    "    return x*(x-1)\n",
    "\n",
    "def derivative_test(f, x, δ):\n",
    "    return (f(x + δ) - f(x))/δ"
   ]
  },
  {
   "cell_type": "code",
   "execution_count": 20,
   "metadata": {},
   "outputs": [
    {
     "data": {
      "text/plain": [
       "1.010000000000001"
      ]
     },
     "execution_count": 20,
     "metadata": {},
     "output_type": "execute_result"
    }
   ],
   "source": [
    "x = 1\n",
    "δ = 10**(-2)\n",
    "\n",
    "derivative_test(func2, x, δ)"
   ]
  },
  {
   "cell_type": "code",
   "execution_count": 26,
   "metadata": {},
   "outputs": [
    {
     "name": "stdout",
     "output_type": "stream",
     "text": [
      "La derivada de f en x=1 con delta 1.0e-04 es  1.0001000000 con error 1.000e-04\n",
      "La derivada de f en x=1 con delta 1.0e-06 es  1.0000009999 con error 9.999e-07\n",
      "La derivada de f en x=1 con delta 1.0e-08 es  1.0000000039 con error 3.923e-09\n",
      "La derivada de f en x=1 con delta 1.0e-10 es  1.0000000828 con error 8.284e-08\n",
      "La derivada de f en x=1 con delta 1.0e-12 es  1.0000889006 con error 8.890e-05\n",
      "La derivada de f en x=1 con delta 1.0e-14 es  0.9992007222 con error 7.993e-04\n"
     ]
    }
   ],
   "source": [
    "for i in range(4,16,2):\n",
    "    δ = 10**(-i)\n",
    "    der = derivative_test(func2, x, δ)\n",
    "    print(\"La derivada de f en x=1 con delta {0:.1e} es {1: .10f} con error {2:.3e}\".format(δ,der,abs(1-der)))"
   ]
  },
  {
   "cell_type": "markdown",
   "metadata": {},
   "source": [
    "## 3. Heat capacity of a solid"
   ]
  },
  {
   "cell_type": "markdown",
   "metadata": {},
   "source": [
    "La teoría de sólidos de Debye estima la capacidad calorífica de un sólido a temperatura $T$ como\n",
    "\n",
    "$$C_V = 9V\\rho k_B \\left(\\dfrac{T}{\\theta_D}\\right)^3 \\int_0^{\\theta_D /T} \\dfrac{x^4 e^x}{(e^x - 1)^2} dx,$$\n",
    "\n",
    "donde $V$ es el volumen del sólido, $\\rho$ es la densidad de átomos, $k_B$ es la constante de Boltzmann y $\\theta_D$ es la temperatura de Debye."
   ]
  },
  {
   "cell_type": "code",
   "execution_count": 2,
   "metadata": {},
   "outputs": [],
   "source": [
    "V = 1000e-6 #Volumen\n",
    "ρ = 6.022e28 #Densidad de átomos\n",
    "θ = 428 #Temperatura de Debye\n",
    "k = 1.380649e-23 #Constante de Boltzmann"
   ]
  },
  {
   "cell_type": "code",
   "execution_count": null,
   "metadata": {},
   "outputs": [],
   "source": [
    "from math import exp"
   ]
  },
  {
   "cell_type": "code",
   "execution_count": 3,
   "metadata": {},
   "outputs": [],
   "source": [
    "# Integrando de C_V\n",
    "\n",
    "def int_CV(x):\n",
    "    if x > 0: \n",
    "        return (x**4 * exp(x))/(exp(x) - 1)**2\n",
    "    else: \n",
    "        return 0\n",
    "\n",
    "# Cálculo de C_V\n",
    "# quad retorna un arreglo de valores\n",
    "# de estos solo nos interesa el valor [0] de la integral\n",
    "\n",
    "def CV(T):\n",
    "    return 9*V*ρ*k*(T/θ)**3 * quad(int_CV,0,θ/T)[0] "
   ]
  },
  {
   "cell_type": "code",
   "execution_count": 4,
   "metadata": {},
   "outputs": [],
   "source": [
    "# Arrays\n",
    "\n",
    "T = np.linspace(5,500,500)\n",
    "CV_T = np.array([CV(t) for t in T])"
   ]
  },
  {
   "cell_type": "code",
   "execution_count": 6,
   "metadata": {},
   "outputs": [
    {
     "data": {
      "text/plain": [
       "[]"
      ]
     },
     "execution_count": 6,
     "metadata": {},
     "output_type": "execute_result"
    },
    {
     "data": {
      "image/png": "[encoded data removed]",
      "text/plain": [
       "<Figure size 432x288 with 1 Axes>"
      ]
     },
     "metadata": {
      "needs_background": "light"
     },
     "output_type": "display_data"
    }
   ],
   "source": [
    "# Plot\n",
    "\n",
    "fig, ax = plt.subplots()\n",
    "ax.plot(T, CV_T, label=r'$C_V(T)$')\n",
    "ax.set_xlabel(\"Temperatura (K)\")\n",
    "ax.set_ylabel(\"Capacidad calorífica\")\n",
    "ax.set_title(\"Capacidad calorífica del alumino\")\n",
    "plt.savefig(\"CV.pdf\")\n",
    "plt.plot()"
   ]
  },
  {
   "cell_type": "markdown",
   "metadata": {},
   "source": [
    "## 5. Diffraction gratings"
   ]
  },
  {
   "cell_type": "markdown",
   "metadata": {},
   "source": [
    "La intensidad en el patrón de difracción en la pantalla a una distancia $x$ desde el eje central del sistema está dada por:\n",
    "$$I(x) = \\left| \\int_{-w/2}^{w/2} \\sqrt{q(u)} e^{i2\\pi xu/\\lambda f}du \\right|^2, $$\n",
    "\n",
    "donde:\n",
    "\n",
    "$\\lambda$: Longitud de onda\n",
    "\n",
    "$w$: Ancho de la rejilla de difracción\n",
    "\n",
    "$f$: Distancia focal del lente\n",
    "\n",
    "$q(u)$: Intensidad de transmisión a una distancia $u$ del eje central"
   ]
  },
  {
   "cell_type": "markdown",
   "metadata": {},
   "source": [
    "Considerando $q(u) = \\sin^2 \\alpha u$. La separación entre las rendijas es tal que: $$\\alpha u_n = \\dfrac{2n+1}{2} \\pi$$ \n",
    "Entonces $$d = u_{n+1} - u_n = \\dfrac{\\pi}{\\alpha}$$"
   ]
  },
  {
   "cell_type": "code",
   "execution_count": 48,
   "metadata": {},
   "outputs": [],
   "source": [
    "# Exponencial complejo\n",
    "from math import sin, cos"
   ]
  },
  {
   "cell_type": "code",
   "execution_count": 75,
   "metadata": {},
   "outputs": [],
   "source": [
    "d = 20e-6\n",
    "π = np.pi\n",
    "α = π/d\n",
    "\n",
    "# Función intensidad de transmisión\n",
    "def q(u):\n",
    "    return (sin(α*u))**2"
   ]
  },
  {
   "cell_type": "code",
   "execution_count": 76,
   "metadata": {},
   "outputs": [],
   "source": [
    "λ = 500e-9 # Longitud de onda\n",
    "n = 10 #Número de slits\n",
    "w = n*d\n",
    "f = 1.0\n",
    "x = np.linspace(-5e-2,5e-2,200)"
   ]
  },
  {
   "cell_type": "code",
   "execution_count": 77,
   "metadata": {},
   "outputs": [],
   "source": [
    "def int_diff(x):\n",
    "    integral_cos = quad(lambda u: sqrt(q(u))*cos(2*π*x*u/(λ*f)), -w/2, w/2)[0]\n",
    "    integral_sin = quad(lambda u: sqrt(q(u))*sin(2*π*x*u/(λ*f)), -w/2, w/2)[0]\n",
    "    aux = complex(integral_cos, integral_sin)\n",
    "    return abs(aux)**2"
   ]
  },
  {
   "cell_type": "code",
   "execution_count": 78,
   "metadata": {},
   "outputs": [
    {
     "name": "stderr",
     "output_type": "stream",
     "text": [
      "/home/alejandra/anaconda3/lib/python3.7/site-packages/ipykernel_launcher.py:2: IntegrationWarning: The maximum number of subdivisions (50) has been achieved.\n",
      "  If increasing the limit yields no improvement it is advised to analyze \n",
      "  the integrand in order to determine the difficulties.  If the position of a \n",
      "  local difficulty can be determined (singularity, discontinuity) one will \n",
      "  probably gain from splitting up the interval and calling the integrator \n",
      "  on the subranges.  Perhaps a special-purpose integrator should be used.\n",
      "  \n"
     ]
    }
   ],
   "source": [
    "int_x = np.array([int_diff(x) for x in x])"
   ]
  },
  {
   "cell_type": "code",
   "execution_count": 79,
   "metadata": {},
   "outputs": [
    {
     "data": {
      "image/png": "[encoded data removed]",
      "text/plain": [
       "<Figure size 432x288 with 1 Axes>"
      ]
     },
     "metadata": {
      "needs_background": "light"
     },
     "output_type": "display_data"
    }
   ],
   "source": [
    "plt.plot(x, int_x)\n",
    "plt.show()"
   ]
  },
  {
   "cell_type": "code",
   "execution_count": 109,
   "metadata": {},
   "outputs": [
    {
     "data": {
      "image/png": "[encoded data removed]",
      "text/plain": [
       "<Figure size 432x288 with 1 Axes>"
      ]
     },
     "metadata": {},
     "output_type": "display_data"
    }
   ],
   "source": [
    "# Patrón de difracción\n",
    "y = np.zeros((20,x.shape[0]))\n",
    "\n",
    "for i in range(20):\n",
    "    y[i,:] = int_x\n",
    "    \n",
    "plt.imshow(y,vmax=0.15e-8,cmap='gray')\n",
    "plt.yticks([],[])\n",
    "plt.xticks([],[])\n",
    "plt.show()"
   ]
  },
  {
   "cell_type": "code",
   "execution_count": null,
   "metadata": {},
   "outputs": [],
   "source": []
  }
 ],
 "metadata": {
  "kernelspec": {
   "display_name": "Python 3",
   "language": "python",
   "name": "python3"
  },
  "language_info": {
   "codemirror_mode": {
    "name": "ipython",
    "version": 3
   },
   "file_extension": ".py",
   "mimetype": "text/x-python",
   "name": "python",
   "nbconvert_exporter": "python",
   "pygments_lexer": "ipython3",
   "version": "3.7.4"
  },
  "vp": {
   "base_numbering": 1,
   "nav_menu": {},
   "number_sections": true,
   "sideBar": true,
   "title_cell": "VisualPython",
   "title_sidebar": "VisualPython",
   "vpPosition": {
    "height": "calc(100% - 180px)",
    "right": "10px",
    "top": "110px",
    "width": "50%"
   },
   "vp_cell": false,
   "vp_section_display": true,
   "vp_window_display": false
  }
 },
 "nbformat": 4,
 "nbformat_minor": 4
}
