{
 "cells": [
  {
   "cell_type": "markdown",
   "id": "78a66f03",
   "metadata": {},
   "source": [
    "### Exercise 3: Heat capacity fo solid\n",
    "Debye's theory of solids gives the heat capacity of a solid at temperatyre T to be:\n",
    "$C_{V} = 9V\\rho k_{B}\\left(\\frac{T}{\\theta_{D}} \\right)^{3}\\int^{\\theta_{D}/T}_{0} \\frac{x^{4}e^{x}}{(e^{x}-1)^{2}}dx$\n",
    "donde $V$ es el volumen del sólido, $\\rho$ es el número de densidad de átomos, $k_{B}$ is Boltzmann's constant, and $\\theta_{D}$ is the so-called Debye temperature, a property of solids that depends on their density and speed of sound."
   ]
  },
  {
   "cell_type": "markdown",
   "id": "1d2669fa",
   "metadata": {},
   "source": [
    "a) Write a Python function $C_{V}(T)$ that calculates $C_{V}$ for a given value of the temperature, for a sample consisting of 1000 $cm^{3}$ of solid aluminum, which as a number density of $\\rho = 6.022\\times 10^{28} m^{-3}$ and a Debye temperature of $\\theta_{D} = 428 K.$\n",
    "Use the trapezoidal rule to evaluatethe integral with N= 1000 sample points. Hint: The value of the integrand at x = 0 is zero."
   ]
  },
  {
   "cell_type": "code",
   "execution_count": 7,
   "id": "552208ea",
   "metadata": {},
   "outputs": [],
   "source": [
    "from pylab import*"
   ]
  },
  {
   "cell_type": "code",
   "execution_count": 8,
   "id": "025feb07",
   "metadata": {},
   "outputs": [],
   "source": [
    "from numpy import*"
   ]
  },
  {
   "cell_type": "code",
   "execution_count": 9,
   "id": "85f51d73",
   "metadata": {},
   "outputs": [],
   "source": [
    "V = 1e-3\n",
    "rho = 6.022*1e+28\n",
    "kB = 1.380649*1e-23\n",
    "thetaD = 428"
   ]
  },
  {
   "cell_type": "code",
   "execution_count": 10,
   "id": "2fa99301",
   "metadata": {},
   "outputs": [],
   "source": [
    "def Trapecio(a, b, f, n):\n",
    "    x = linspace(a, b, n+1)\n",
    "    suma = 0\n",
    "    for i in range(1, n):\n",
    "        suma = suma + f(x[i])\n",
    "    Integral = (b-a)*(f(a) + 2*suma + f(b))/(2*n)\n",
    "    return Integral"
   ]
  },
  {
   "cell_type": "code",
   "execution_count": 27,
   "id": "d414fded",
   "metadata": {},
   "outputs": [],
   "source": [
    "def Cv1(T):\n",
    "    return 9*V*rho*kB*(T/thetaD)**(3)\n",
    "def Cv2(x):\n",
    "    return (x**4)*(np.exp(x))/((np.exp(x) - 1)**2)"
   ]
  },
  {
   "cell_type": "code",
   "execution_count": 58,
   "id": "9cf347fb",
   "metadata": {},
   "outputs": [
    {
     "name": "stdout",
     "output_type": "stream",
     "text": [
      "The heat capacity at T = 30K, Cv(T) = 289.3473364544642\n"
     ]
    }
   ],
   "source": [
    "TC1 = Cv1(50)* Trapecio(0.0001, 428/50, Cv2, 1000)\n",
    "print(\"The heat capacity at T = 30K, Cv(T) =\", TC1)"
   ]
  },
  {
   "cell_type": "markdown",
   "id": "84e54963",
   "metadata": {},
   "source": [
    "b) Use yout function to make a graph of the heat capacity as a function of temperature from $T = 5K$ to $T = 500 K$."
   ]
  },
  {
   "cell_type": "code",
   "execution_count": 34,
   "id": "e2bc68af",
   "metadata": {},
   "outputs": [
    {
     "data": {
      "image/png": "[encoded data removed]",
      "text/plain": [
       "<Figure size 432x288 with 1 Axes>"
      ]
     },
     "metadata": {
      "needs_background": "light"
     },
     "output_type": "display_data"
    }
   ],
   "source": [
    "T = linspace(5, 500, 101)\n",
    "def Cv3(T):\n",
    "    n = T.shape[0]\n",
    "    C = zeros(n)\n",
    "    for i in range(n):\n",
    "        C[i] = Cv1(T[i])*Trapecio(0.0001, 428/T[i], Cv2, 100)\n",
    "    return C\n",
    "plot(T, Cv3(T), color = 'orange')\n",
    "plt.title(\"Capacity Heat Cv\")\n",
    "xlabel(\"T = [5,500] K\")\n",
    "ylabel(\"Cv(T)\")\n",
    "grid()\n",
    "show()"
   ]
  },
  {
   "cell_type": "markdown",
   "id": "1b5d5514",
   "metadata": {},
   "source": [
    "### Exercise 4: Solving integrals with Simpson's rule."
   ]
  },
  {
   "cell_type": "markdown",
   "id": "ef185d99",
   "metadata": {},
   "source": [
    "a) Write a program to calculate an value for the integral $\\int^{2}_{0}(x^{4} - 2x + 1)dx$ from Example 5.1, but using Simpson's rule with ten slices instead of the trapezoidal rule."
   ]
  },
  {
   "cell_type": "code",
   "execution_count": 45,
   "id": "eaf8dbc9",
   "metadata": {},
   "outputs": [],
   "source": [
    "def Simpson13(a,b,f,n): # n debe ser múltiplo de 2.\n",
    "    x = linspace(a,b,n+1)\n",
    "    suma1 = 0\n",
    "    suma2 = 0\n",
    "    for i in range(1, n, 2):\n",
    "        suma1 = suma1 + f(x[i])\n",
    "    for j in range(2, n-1, 2):\n",
    "        suma2 = suma2 + f(x[j])\n",
    "    Integral = (b-a)*(f(a) + 4*suma1 + 2*suma2 + f(b))/(3*n)\n",
    "    return Integral"
   ]
  },
  {
   "cell_type": "code",
   "execution_count": 46,
   "id": "7b67f5f2",
   "metadata": {},
   "outputs": [],
   "source": [
    "def f4(x):\n",
    "    return pow(x,4) - 2*x + 1"
   ]
  },
  {
   "cell_type": "code",
   "execution_count": 47,
   "id": "9bf6e340",
   "metadata": {},
   "outputs": [
    {
     "name": "stdout",
     "output_type": "stream",
     "text": [
      "4.400426666666667\n"
     ]
    }
   ],
   "source": [
    "Int4a = Simpson13(0,2, f4, 10)\n",
    "print(Int4a)"
   ]
  },
  {
   "cell_type": "markdown",
   "id": "97850d45",
   "metadata": {},
   "source": [
    "b) Run the program and compare your result to the known correct value of 4.4. What is the fractional error on your calculation?"
   ]
  },
  {
   "cell_type": "code",
   "execution_count": 51,
   "id": "390b3d83",
   "metadata": {},
   "outputs": [
    {
     "name": "stdout",
     "output_type": "stream",
     "text": [
      "The error in Simmpson's rule es: 9.696029475936285e-05\n"
     ]
    }
   ],
   "source": [
    "print(\"The error in Simpson's rule es:\",1 -(4.4)/Int4a)"
   ]
  },
  {
   "cell_type": "markdown",
   "id": "9d1ff37a",
   "metadata": {},
   "source": [
    "c) Modify the program to use a hundred slices instead, then a thousand. Note the improvement in the result. How do the results compare with those from Example 5.1 for the trapezoidal rule with the same number of slices?"
   ]
  },
  {
   "cell_type": "code",
   "execution_count": 56,
   "id": "ca026b14",
   "metadata": {},
   "outputs": [
    {
     "name": "stdout",
     "output_type": "stream",
     "text": [
      "Simpson With 100 slices: 4.400000042666667\n",
      "Trapecio With 100 slices: 4.401066656\n",
      "\n",
      "Simpson With 1000 slices: 4.400000000004267\n",
      "Trapecio With 1000 slices: 4.4000106666656\n"
     ]
    }
   ],
   "source": [
    "Int4c1 = Simpson13(0, 2, f4, 100)\n",
    "Int4c2 = Simpson13(0, 2, f4, 1000)\n",
    "Int4c3 = Trapecio(0, 2, f4, 100)\n",
    "Int4c4 = Trapecio(0, 2, f4, 1000)\n",
    "\n",
    "print(\"Simpson With 100 slices:\", Int4c1)\n",
    "print(\"Trapecio With 100 slices:\", Int4c3)\n",
    "print(\"\")\n",
    "\n",
    "print(\"Simpson With 1000 slices:\", Int4c2)\n",
    "print(\"Trapecio With 1000 slices:\", Int4c4)"
   ]
  },
  {
   "cell_type": "markdown",
   "id": "368fea39",
   "metadata": {},
   "source": [
    "### Exercise 5: Diffraction gratings.\n",
    "Light with wavelength $\\lambda$ is incident on a diffractiono grating of total width $\\omega$, gets diffracted, is focused by a lens of focal length $f$, and falls on a screen.\n",
    "Theory tells us that the intensity of the diffraction pattern on the screen, a distance $x$ from the central axis of the system, is given by:\n",
    "\n",
    "$I(x) = \\left|\\int^{\\omega/2}_{\\omega/2}\\sqrt{q(u)}e^{i2\\pi xu/\\lambda f}dx \\right|^{2}$\n",
    "\n",
    "where $q(u)$ is the intensity transmission function of the diffraction grating at a distance $u$ from de central axis."
   ]
  },
  {
   "cell_type": "markdown",
   "id": "9aed2889",
   "metadata": {},
   "source": [
    "a) Consider a grating with transmission function $q(u) = sin^{2}(\\alpha x)$. What is the separation of the \"slits\" in the grating, expressed in terms of $\\alpha$?"
   ]
  },
  {
   "cell_type": "markdown",
   "id": "2a9a9071",
   "metadata": {},
   "source": []
  },
  {
   "cell_type": "code",
   "execution_count": null,
   "id": "7909f27d",
   "metadata": {},
   "outputs": [],
   "source": []
  }
 ],
 "metadata": {
  "kernelspec": {
   "display_name": "Python 3 (ipykernel)",
   "language": "python",
   "name": "python3"
  },
  "language_info": {
   "codemirror_mode": {
    "name": "ipython",
    "version": 3
   },
   "file_extension": ".py",
   "mimetype": "text/x-python",
   "name": "python",
   "nbconvert_exporter": "python",
   "pygments_lexer": "ipython3",
   "version": "3.9.6"
  }
 },
 "nbformat": 4,
 "nbformat_minor": 5
}
