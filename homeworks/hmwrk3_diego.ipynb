{
 "cells": [
  {
   "cell_type": "markdown",
   "id": "floral-cutting",
   "metadata": {},
   "source": [
    "# Homework 3\n",
    "\n",
    "## Problem 1"
   ]
  },
  {
   "cell_type": "code",
   "execution_count": 1,
   "id": "violent-voltage",
   "metadata": {},
   "outputs": [],
   "source": [
    "# Loading packages\n",
    "import numpy as np"
   ]
  },
  {
   "cell_type": "markdown",
   "id": "million-jimmy",
   "metadata": {},
   "source": [
    "### Part (a)"
   ]
  },
  {
   "cell_type": "code",
   "execution_count": 2,
   "id": "smoking-algeria",
   "metadata": {},
   "outputs": [
    {
     "name": "stdout",
     "output_type": "stream",
     "text": [
      "x1 = -9.999894245993346e-07 and f(x1) = 1.0575401665491313e-08\n",
      "x2 = -999999.999999 and f(x2) = 7.247924804689582e-08\n"
     ]
    }
   ],
   "source": [
    "# a, b, c = [float(i) for i in input().split()]\n",
    "# a, b, c = 0.001, 1000, 0.001\n",
    "a, b, c = 1.e-3, 1.e+3, 1.e-3\n",
    "\n",
    "def P(x):\n",
    "    return a*x**2 + b*x + c\n",
    "\n",
    "# discriminant\n",
    "disc = b**2 - 4*a*c\n",
    "\n",
    "# roots\n",
    "x1, x2 = (-b + np.sqrt(disc))/(2*a), (-b - np.sqrt(disc))/(2*a)\n",
    "\n",
    "print(\"\"\"x1 = {0} and f(x1) = {1}\n",
    "x2 = {2} and f(x2) = {3}\"\"\".format(x1, P(x1), x2, P(x2)))"
   ]
  },
  {
   "cell_type": "markdown",
   "id": "aboriginal-easter",
   "metadata": {},
   "source": [
    "### Part (b)"
   ]
  },
  {
   "cell_type": "code",
   "execution_count": 3,
   "id": "cardiovascular-adobe",
   "metadata": {},
   "outputs": [
    {
     "name": "stdout",
     "output_type": "stream",
     "text": [
      "x1 = -1.000000000001e-06 and f(x1) = 0.0\n",
      "x2 = -1000010.5755125057 and f(x2) = 10575.62534720993\n"
     ]
    }
   ],
   "source": [
    "# roots\n",
    "xb1, xb2 = (2*c)/(-b - np.sqrt(disc)), (2*c)/(-b + np.sqrt(disc))\n",
    "\n",
    "print(\"\"\"x1 = {0} and f(x1) = {1}\n",
    "x2 = {2} and f(x2) = {3}\"\"\".format(xb1, P(xb1), xb2, P(xb2)))"
   ]
  },
  {
   "cell_type": "markdown",
   "id": "continued-pantyhose",
   "metadata": {},
   "source": [
    "### Part (c)"
   ]
  },
  {
   "cell_type": "code",
   "execution_count": 4,
   "id": "aquatic-nebraska",
   "metadata": {},
   "outputs": [
    {
     "name": "stdout",
     "output_type": "stream",
     "text": [
      "disc = 999999.999996\n",
      "sqrt(disc) = 999.999999998\n",
      "-b + sqrt(disc) = -1.999978849198669e-09\n",
      "-b - sqrt(disc) = -1999.999999998\n",
      "\n"
     ]
    }
   ],
   "source": [
    "print(\"\"\"disc = {0}\n",
    "sqrt(disc) = {1}\n",
    "-b + sqrt(disc) = {2}\n",
    "-b - sqrt(disc) = {3}\n",
    "\"\"\".format(disc, np.sqrt(disc), -b + np.sqrt(disc), -b - np.sqrt(disc)))"
   ]
  },
  {
   "cell_type": "code",
   "execution_count": 5,
   "id": "correct-design",
   "metadata": {},
   "outputs": [
    {
     "name": "stdout",
     "output_type": "stream",
     "text": [
      "Correct roots:\n",
      "x1 = -1.000000000001e-06 and f(x1) = 0.0\n",
      "x2 = -999999.999999 and f(x2) = 7.247924804689582e-08\n"
     ]
    }
   ],
   "source": [
    "print(\"\"\"Correct roots:\n",
    "x1 = {0} and f(x1) = {1}\n",
    "x2 = {2} and f(x2) = {3}\"\"\".format(xb1, P(xb1), x2, P(x2)))"
   ]
  },
  {
   "cell_type": "markdown",
   "id": "patent-indian",
   "metadata": {},
   "source": [
    "Another solution"
   ]
  },
  {
   "cell_type": "code",
   "execution_count": 6,
   "id": "textile-capacity",
   "metadata": {},
   "outputs": [
    {
     "name": "stdout",
     "output_type": "stream",
     "text": [
      "x1 = -1.000000000001e-06 and f(x1) = 0.0\n",
      "x2 = -999999.999999 and f(x2) = 7.247924804689582e-08\n"
     ]
    }
   ],
   "source": [
    "# with numpy\n",
    "\n",
    "# roots\n",
    "R = np.roots([a, b, c])\n",
    "\n",
    "print(\"\"\"x1 = {0} and f(x1) = {1}\n",
    "x2 = {2} and f(x2) = {3}\"\"\".format(R[1], P(R[1]), R[0], P(R[0])))"
   ]
  },
  {
   "cell_type": "markdown",
   "id": "successful-parliament",
   "metadata": {},
   "source": [
    "# Problem 2"
   ]
  },
  {
   "cell_type": "code",
   "execution_count": 7,
   "id": "understanding-monroe",
   "metadata": {},
   "outputs": [],
   "source": [
    "# reset variables\n",
    "%reset -f \n",
    "\n",
    "# Loading packages\n",
    "import numpy as np"
   ]
  },
  {
   "cell_type": "markdown",
   "id": "subtle-logic",
   "metadata": {},
   "source": [
    "### Part (a)"
   ]
  },
  {
   "cell_type": "code",
   "execution_count": 8,
   "id": "entire-dairy",
   "metadata": {},
   "outputs": [
    {
     "name": "stdout",
     "output_type": "stream",
     "text": [
      "Df/dx: 1.010000000000001\n",
      " f'(x) = 1\n",
      " error = 0.010000000000000897\n"
     ]
    }
   ],
   "source": [
    "# function and derivative\n",
    "f = lambda x : x*(x - 1)\n",
    "adf = lambda x : 2*x - 1\n",
    "\n",
    "# variables\n",
    "x0, delta = 1, 1.e-2\n",
    "\n",
    "#numerical derivative\n",
    "df = (f(x0 + delta) - f(x0))/delta\n",
    "\n",
    "print(\"\"\"Df/dx: {0}\\n f'(x) = {1}\\n error = {2}\"\"\".format(df, adf(x0), df - adf(x0)))"
   ]
  },
  {
   "cell_type": "markdown",
   "id": "unique-procedure",
   "metadata": {},
   "source": [
    "### Part (b)"
   ]
  },
  {
   "cell_type": "code",
   "execution_count": 9,
   "id": "metric-majority",
   "metadata": {},
   "outputs": [
    {
     "name": "stdout",
     "output_type": "stream",
     "text": [
      "delta: 0.0001\n",
      " Df = 0.00010000999999998898\n",
      " f'(x) = 1.0000999999998899\n",
      " error = 9.999999988985486e-05\n",
      "delta: 1e-06\n",
      " Df = 1.0000009999177332e-06\n",
      " f'(x) = 1.0000009999177333\n",
      " error = 9.99917733279787e-07\n",
      "delta: 1e-08\n",
      " Df = 1.0000000039225289e-08\n",
      " f'(x) = 1.0000000039225287\n",
      " error = 3.922528746258536e-09\n",
      "delta: 1e-10\n",
      " Df = 1.000000082840371e-10\n",
      " f'(x) = 1.000000082840371\n",
      " error = 8.284037100736441e-08\n",
      "delta: 1e-12\n",
      " Df = 1.0000889005833413e-12\n",
      " f'(x) = 1.0000889005833413\n",
      " error = 8.890058334132256e-05\n",
      "delta: 1e-14\n",
      " Df = 9.992007221626508e-15\n",
      " f'(x) = 0.9992007221626509\n",
      " error = -0.0007992778373491216\n"
     ]
    }
   ],
   "source": [
    "def dv(x0, delta):\n",
    "    return (f(x0 + delta) - f(x0))/delta\n",
    "\n",
    "for delta in  [10**(-d) for d in range(4, 16, 2)]:\n",
    "    print(\"\"\"delta: {0}\\n Df = {1}\\n f'(x) = {2}\\n error = {3}\"\"\".format(delta, f(x0 + delta) - f(x0), dv(x0, delta), dv(x0, delta) - adf(x0)))"
   ]
  },
  {
   "cell_type": "markdown",
   "id": "posted-merit",
   "metadata": {},
   "source": [
    "Python can't handle the $Df$ with $\\delta = 10^{-10}$.\n",
    "\n",
    "## Problem 3"
   ]
  },
  {
   "cell_type": "code",
   "execution_count": 10,
   "id": "failing-anderson",
   "metadata": {},
   "outputs": [],
   "source": [
    "# reset variables\n",
    "%reset -f \n",
    "\n",
    "# Loading packages\n",
    "import matplotlib.pyplot as plt\n",
    "import seaborn as sns\n",
    "sns.set_theme()\n",
    "sns.set_style(\"darkgrid\")\n",
    "\n",
    "import numpy as np\n",
    "import scipy.integrate as int"
   ]
  },
  {
   "cell_type": "markdown",
   "id": "robust-cylinder",
   "metadata": {},
   "source": [
    "### Part (a)"
   ]
  },
  {
   "cell_type": "code",
   "execution_count": 11,
   "id": "little-shopper",
   "metadata": {},
   "outputs": [],
   "source": [
    "# constants\n",
    "V = 1000.0 * 1.e-6 # volume in cubic meters\n",
    "rho = 6.022 * 1.e+28 # number density of atoms in (cubic meters)^-1\n",
    "theta_D = 438.0 # Debye temperature in Kelvin\n",
    "k_B = 1.380649 * 1.e-23 # Boltzmann constant\n",
    "\n",
    "\n",
    "# integrand\n",
    "def f(x):\n",
    "    return (x**4 * np.exp(x))/(np.exp(x) - 1)**2\n",
    "\n",
    "def cv(T):\n",
    "    a, b = 0.0, theta_D/T\n",
    "    N = 1000\n",
    "    h = (b - a)/N\n",
    "    \n",
    "    x = np.arange(a+h, b+h, h)\n",
    "    y = np.insert(f(x), 0, 0.0)\n",
    "    x = np.insert(x, 0, 0.0)\n",
    "    \n",
    "    I = int.trapezoid(y, x)\n",
    "    \n",
    "    return 9*V*rho*k_B*(T/theta_D)**3*I"
   ]
  },
  {
   "cell_type": "code",
   "execution_count": 12,
   "id": "concrete-currency",
   "metadata": {},
   "outputs": [
    {
     "data": {
      "text/plain": [
       "18.505506959566482"
      ]
     },
     "execution_count": 12,
     "metadata": {},
     "output_type": "execute_result"
    }
   ],
   "source": [
    "cv(20)"
   ]
  },
  {
   "cell_type": "markdown",
   "id": "broke-concert",
   "metadata": {},
   "source": [
    "### Part (b)"
   ]
  },
  {
   "cell_type": "code",
   "execution_count": 13,
   "id": "integrated-surrey",
   "metadata": {},
   "outputs": [
    {
     "data": {
      "image/png": "[encoded data removed]",
      "text/plain": [
       "<Figure size 432x288 with 1 Axes>"
      ]
     },
     "metadata": {},
     "output_type": "display_data"
    }
   ],
   "source": [
    "# Domain\n",
    "st = 1\n",
    "T = np.arange(5, 500, st)\n",
    "\n",
    "# Function\n",
    "C = []\n",
    "for t in T:\n",
    "    C.append(cv(t))\n",
    "\n",
    "# Plot\n",
    "plt.plot(T, C, color='black')\n",
    "\n",
    "# Aesthetics\n",
    "plt.title('Debye model for $C_v$')\n",
    "plt.xlabel('$T (K)$')\n",
    "plt.ylabel('$C_v (J\\cdot kg^{-1}\\cdot K^{-1})$')\n",
    "# plt.gca().set_aspect('equal', adjustable='box') \n",
    "\n",
    "plt.savefig(\"plot.pdf\")\n",
    "plt.show()"
   ]
  }
 ],
 "metadata": {
  "kernelspec": {
   "display_name": "Python 3",
   "language": "python",
   "name": "python3"
  },
  "language_info": {
   "codemirror_mode": {
    "name": "ipython",
    "version": 3
   },
   "file_extension": ".py",
   "mimetype": "text/x-python",
   "name": "python",
   "nbconvert_exporter": "python",
   "pygments_lexer": "ipython3",
   "version": "3.9.6"
  }
 },
 "nbformat": 4,
 "nbformat_minor": 5
}
